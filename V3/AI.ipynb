{
 "cells": [
  {
   "cell_type": "code",
   "execution_count": 22,
   "outputs": [],
   "source": [
    "import matplotlib.pyplot as plt\n",
    "import torch\n",
    "import numpy as np\n",
    "from copy import deepcopy\n",
    "from tqdm import tqdm\n",
    "from game import *"
   ],
   "metadata": {
    "collapsed": false,
    "pycharm": {
     "name": "#%%\n"
    }
   }
  },
  {
   "cell_type": "code",
   "execution_count": 23,
   "metadata": {
    "collapsed": true,
    "pycharm": {
     "name": "#%%\n"
    }
   },
   "outputs": [
    {
     "name": "stdout",
     "output_type": "stream",
     "text": [
      "action_space_size:  4\n",
      "state_space_size:  625\n"
     ]
    },
    {
     "name": "stderr",
     "output_type": "stream",
     "text": [
      " 19%|█▉        | 5803/30000 [00:20<01:25, 284.35it/s]\n"
     ]
    },
    {
     "ename": "KeyboardInterrupt",
     "evalue": "",
     "output_type": "error",
     "traceback": [
      "\u001B[0;31m---------------------------------------------------------------------------\u001B[0m",
      "\u001B[0;31mKeyboardInterrupt\u001B[0m                         Traceback (most recent call last)",
      "Cell \u001B[0;32mIn [23], line 63\u001B[0m\n\u001B[1;32m     60\u001B[0m     my_random_flag \u001B[38;5;241m=\u001B[39m \u001B[38;5;28;01mTrue\u001B[39;00m\n\u001B[1;32m     62\u001B[0m \u001B[38;5;66;03m# Take new action\u001B[39;00m\n\u001B[0;32m---> 63\u001B[0m reward, running, action, _state, new_state \u001B[38;5;241m=\u001B[39m \u001B[43magent\u001B[49m\u001B[38;5;241;43m.\u001B[39;49m\u001B[43mstep\u001B[49m\u001B[43m(\u001B[49m\u001B[43mmy_random_flag\u001B[49m\u001B[43m)\u001B[49m\n\u001B[1;32m     64\u001B[0m _state \u001B[38;5;241m=\u001B[39m tensor_2_string(_state)\n\u001B[1;32m     65\u001B[0m new_state \u001B[38;5;241m=\u001B[39m tensor_2_string(new_state)\n",
      "File \u001B[0;32m~/Library/CloudStorage/OneDrive-AarhusUniversitet/Div. Github projekter/Snake/V3/game.py:436\u001B[0m, in \u001B[0;36mSimpleSnakeApp.step\u001B[0;34m(self, random_flag)\u001B[0m\n\u001B[1;32m    434\u001B[0m     \u001B[38;5;28mself\u001B[39m\u001B[38;5;241m.\u001B[39mrunning \u001B[38;5;241m=\u001B[39m \u001B[38;5;28;01mFalse\u001B[39;00m\n\u001B[1;32m    435\u001B[0m \u001B[38;5;28mself\u001B[39m\u001B[38;5;241m.\u001B[39mrunning \u001B[38;5;241m=\u001B[39m \u001B[38;5;129;01mnot\u001B[39;00m \u001B[38;5;28mself\u001B[39m\u001B[38;5;241m.\u001B[39mgame_over\n\u001B[0;32m--> 436\u001B[0m new_state \u001B[38;5;241m=\u001B[39m \u001B[38;5;28;43mself\u001B[39;49m\u001B[38;5;241;43m.\u001B[39;49m\u001B[43mget_state\u001B[49m\u001B[43m(\u001B[49m\u001B[43m)\u001B[49m\n\u001B[1;32m    437\u001B[0m \u001B[38;5;28;01mreturn\u001B[39;00m \u001B[38;5;28mself\u001B[39m\u001B[38;5;241m.\u001B[39mcurrent_reward, \u001B[38;5;28mself\u001B[39m\u001B[38;5;241m.\u001B[39mrunning, current_action, current_state, new_state\n",
      "File \u001B[0;32m~/Library/CloudStorage/OneDrive-AarhusUniversitet/Div. Github projekter/Snake/V3/game.py:339\u001B[0m, in \u001B[0;36mSimpleSnakeApp.get_state\u001B[0;34m(self)\u001B[0m\n\u001B[1;32m    337\u001B[0m _state[\u001B[38;5;241m1\u001B[39m] \u001B[38;5;241m=\u001B[39m \u001B[38;5;241m2\u001B[39m\n\u001B[1;32m    338\u001B[0m \u001B[38;5;66;03m# Snake colliding with itself\u001B[39;00m\n\u001B[0;32m--> 339\u001B[0m \u001B[38;5;28;01mfor\u001B[39;00m snake_body_react \u001B[38;5;129;01min\u001B[39;00m \u001B[38;5;28;43mrange\u001B[39;49m\u001B[43m(\u001B[49m\u001B[38;5;241;43m1\u001B[39;49m\u001B[43m,\u001B[49m\u001B[43m \u001B[49m\u001B[38;5;28;43mself\u001B[39;49m\u001B[38;5;241;43m.\u001B[39;49m\u001B[43mcurrent_snake_blocks\u001B[49m\u001B[43m)\u001B[49m:\n\u001B[1;32m    340\u001B[0m     \u001B[38;5;28;01mif\u001B[39;00m \u001B[38;5;28mself\u001B[39m\u001B[38;5;241m.\u001B[39msnake_block_reacts[\u001B[38;5;241m0\u001B[39m]\u001B[38;5;241m.\u001B[39mbottom \u001B[38;5;241m>\u001B[39m\u001B[38;5;241m=\u001B[39m \u001B[38;5;28mself\u001B[39m\u001B[38;5;241m.\u001B[39msnake_block_reacts[snake_body_react]\u001B[38;5;241m.\u001B[39mtop:\n\u001B[1;32m    341\u001B[0m         \u001B[38;5;28;01mif\u001B[39;00m \u001B[38;5;28mself\u001B[39m\u001B[38;5;241m.\u001B[39mdisplay_gameplay:\n",
      "\u001B[0;31mKeyboardInterrupt\u001B[0m: "
     ]
    }
   ],
   "source": [
    "# for reproducibility\n",
    "my_seed = 2786\n",
    "np.random.seed(my_seed)\n",
    "torch.manual_seed(my_seed)\n",
    "\n",
    "# Creating The Q-Table\n",
    "action_space_size = 4  # Up-left-down-right\n",
    "state_space_size = 5*5*5*5 # All possible permutations of bitstring og length 12\n",
    "print(\"action_space_size: \", action_space_size)\n",
    "print(\"state_space_size: \", state_space_size)\n",
    "q_table = create_q_table_dict()\n",
    "\n",
    "# View good score games while training ?\n",
    "view_games = True\n",
    "\n",
    "# Stats for plotting\n",
    "loss_means = []\n",
    "highest_scores = []\n",
    "best_play_models = []\n",
    "\n",
    "# Initializing Q-Learning Parameters\n",
    "num_episodes = 30000 # try 15000\n",
    "max_steps_per_episode = 1000000\n",
    "\n",
    "learning_rate = 0.001 # try 0.001\n",
    "discount_rate = 0.99 # try 0.99\n",
    "\n",
    "max_exploration_rate = 1\n",
    "min_exploration_rate = 0.01 # try 0.01\n",
    "exploration_decay_rate = 0.001 # try 0.001\n",
    "exploration_rate = max_exploration_rate  # Initially exploring (all q-table vals = 0 at beginning)\n",
    "\n",
    "\n",
    "# The Q-Learning Algorithm Training Loop\n",
    "rewards_all_episodes = []\n",
    "exploration_rates = []\n",
    "action_map = {\"up\": 0, \"down\": 1, \"left\": 2, \"right\": 3}\n",
    "\n",
    "high_score = 0\n",
    "high_score_seed = 0\n",
    "for episode in tqdm(range(num_episodes)):\n",
    "    agent = SimpleSnakeApp(seed=my_seed+episode,\n",
    "                           Q_table=q_table,\n",
    "                           display_gameplay=False)\n",
    "\n",
    "    done = False\n",
    "    rewards_current_episode = 0\n",
    "    my_random_flag = False\n",
    "\n",
    "    exploration_rates.append(exploration_rate)\n",
    "    for step in range(max_steps_per_episode):\n",
    "\n",
    "        # Exploration-exploitation trade-off\n",
    "        exploration_rate_threshold = np.random.uniform(0, 1)\n",
    "        if exploration_rate_threshold > exploration_rate:\n",
    "            # Use Q table\n",
    "            my_random_flag = False\n",
    "        else:\n",
    "            # Random action\n",
    "            my_random_flag = True\n",
    "\n",
    "        # Take new action\n",
    "        reward, running, action, _state, new_state = agent.step(my_random_flag)\n",
    "        _state = tensor_2_string(_state)\n",
    "        new_state = tensor_2_string(new_state)\n",
    "        action = action_map[action]\n",
    "        done = not running\n",
    "\n",
    "        # Update Q-table (using Bellman equation for Optimal Q-value function)\n",
    "        q_table[_state][action] = q_table[_state][action] * (1 - learning_rate) + learning_rate * (\n",
    "                    reward + discount_rate * np.max(q_table[new_state]))\n",
    "\n",
    "        # Add new reward\n",
    "        rewards_current_episode += reward\n",
    "\n",
    "        if done:\n",
    "            break\n",
    "\n",
    "    # Exploration rate decay\n",
    "    exploration_rate = min_exploration_rate + (max_exploration_rate - min_exploration_rate) * np.exp(\n",
    "        -exploration_decay_rate * episode)\n",
    "\n",
    "    # Add current episode reward to total rewards list\n",
    "    rewards_all_episodes.append(rewards_current_episode)\n",
    "\n",
    "    if rewards_current_episode > high_score:\n",
    "        high_score = rewards_current_episode\n",
    "        high_score_seed = my_seed+episode\n",
    "        saveQtable(filename=\"bestqtable.txt\",qtable_dict=q_table)"
   ]
  },
  {
   "cell_type": "code",
   "execution_count": null,
   "outputs": [],
   "source": [
    "print(\"High score:\", high_score)"
   ],
   "metadata": {
    "collapsed": false,
    "pycharm": {
     "name": "#%%\n"
    }
   }
  },
  {
   "cell_type": "code",
   "execution_count": null,
   "outputs": [],
   "source": [
    "# Plot reward of each 'episode'\n",
    "fig, ax = plt.subplots(1,1,figsize=(10,7))\n",
    "ax.plot(list(range(1, len(exploration_rates)+1)), exploration_rates)\n",
    "ax.hlines(min_exploration_rate,0,len(exploration_rates),linestyles=\"--\",colors=\"black\")\n",
    "plt.show()"
   ],
   "metadata": {
    "collapsed": false,
    "pycharm": {
     "name": "#%%\n"
    }
   }
  },
  {
   "cell_type": "code",
   "execution_count": null,
   "outputs": [],
   "source": [
    "# Calculating average over 100's of episodes\n",
    "batch_size = 500\n",
    "avg_rewards = []\n",
    "for batch in range(int(num_episodes/batch_size)):\n",
    "    avg_rewards.append(np.mean(rewards_all_episodes[batch_size * batch : batch_size * (batch + 1)]))\n",
    "\n",
    "# Plot reward of each 'episode'\n",
    "fig, ax = plt.subplots(1,1,figsize=(10,7))\n",
    "ax.plot(list(range(1, len(avg_rewards)+1)), avg_rewards)\n",
    "plt.show()"
   ],
   "metadata": {
    "collapsed": false,
    "pycharm": {
     "name": "#%%\n"
    }
   }
  },
  {
   "cell_type": "code",
   "execution_count": null,
   "outputs": [],
   "source": [
    "best_q_table = loadQtable(\"bestqtable.txt\")\n",
    "Game = SimpleSnakeApp(seed=high_score_seed,\n",
    "                      Q_table=best_q_table,\n",
    "                      display_gameplay=True)\n",
    "Game.on_execute()\n",
    "pygame.display.quit()\n",
    "pygame.quit()\n"
   ],
   "metadata": {
    "collapsed": false,
    "pycharm": {
     "name": "#%%\n"
    }
   }
  },
  {
   "cell_type": "code",
   "execution_count": null,
   "outputs": [],
   "source": [],
   "metadata": {
    "collapsed": false,
    "pycharm": {
     "name": "#%%\n"
    }
   }
  }
 ],
 "metadata": {
  "kernelspec": {
   "display_name": "Python 3",
   "language": "python",
   "name": "python3"
  },
  "language_info": {
   "codemirror_mode": {
    "name": "ipython",
    "version": 2
   },
   "file_extension": ".py",
   "mimetype": "text/x-python",
   "name": "python",
   "nbconvert_exporter": "python",
   "pygments_lexer": "ipython2",
   "version": "2.7.6"
  }
 },
 "nbformat": 4,
 "nbformat_minor": 0
}