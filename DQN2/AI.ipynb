{
 "cells": [
  {
   "cell_type": "code",
   "execution_count": 1,
   "outputs": [
    {
     "name": "stdout",
     "output_type": "stream",
     "text": [
      "pygame 2.1.2 (SDL 2.0.18, Python 3.10.6)\n",
      "Hello from the pygame community. https://www.pygame.org/contribute.html\n"
     ]
    }
   ],
   "source": [
    "\"\"\" https://storage.googleapis.com/deepmind-media/dqn/DQNNaturePaper.pdf\n",
    "https://user.ceng.metu.edu.tr/~emre/resources/courses/AdvancedDL_Spring2017/DQN_Muhammed.pdf\n",
    "https://www.youtube.com/watch?v=NP8pXZdU-5U&t=1s \"\"\"\n",
    "import matplotlib.pyplot as plt\n",
    "import torch\n",
    "import numpy as np\n",
    "from copy import deepcopy\n",
    "from tqdm import tqdm\n",
    "from game import *\n",
    "from Agent import *\n",
    "import collections\n",
    "import random\n",
    "from itertools import count"
   ],
   "metadata": {
    "collapsed": false,
    "pycharm": {
     "name": "#%%\n"
    }
   }
  },
  {
   "cell_type": "code",
   "execution_count": 2,
   "outputs": [],
   "source": [
    "BATCH_SIZE = 64\n",
    "GAMMA = 0.999\n",
    "EPS_START = 1.0\n",
    "EPS_END = 0.001\n",
    "EPS_DECAY = 0.001\n",
    "TARGET_UPDATE = 10\n",
    "MY_SEED = 143\n",
    "LR = 5e-4\n",
    "MEMORY_SIZE = 10000\n",
    "# Get screen size so that we can initialize layers correctly based on shape\n",
    "# returned from AI gym. Typical dimensions at this point are close to 3x40x90\n",
    "# which is the result of a clamped and down-scaled render buffer in get_screen()\n",
    "screen_height, screen_width = 84, 84  # Defining as grid size in snake\n",
    "nr_actions = 4\n",
    "\n",
    "agent_007 = Agent(gamma=GAMMA,exploration_rate=EPS_START,lr=LR,\n",
    "                  input_dims=(screen_height,screen_width), batch_size=BATCH_SIZE,\n",
    "                  nr_actions=nr_actions, max_mem_size=MEMORY_SIZE,\n",
    "                  nr_consecutive_frames=1, exploration_rate_min=EPS_END,\n",
    "                  exploration_decay_rate=EPS_DECAY,seed=MY_SEED)\n"
   ],
   "metadata": {
    "collapsed": false,
    "pycharm": {
     "name": "#%%\n"
    }
   }
  },
  {
   "cell_type": "code",
   "execution_count": 3,
   "outputs": [
    {
     "name": "stderr",
     "output_type": "stream",
     "text": [
      "  0%|          | 0/100 [00:00<?, ?it/s]"
     ]
    },
    {
     "name": "stdout",
     "output_type": "stream",
     "text": [
      "Apple hit\n"
     ]
    },
    {
     "name": "stderr",
     "output_type": "stream",
     "text": [
      "  0%|          | 0/100 [01:05<?, ?it/s]\n"
     ]
    },
    {
     "ename": "KeyboardInterrupt",
     "evalue": "",
     "output_type": "error",
     "traceback": [
      "\u001B[0;31m---------------------------------------------------------------------------\u001B[0m",
      "\u001B[0;31mKeyboardInterrupt\u001B[0m                         Traceback (most recent call last)",
      "Cell \u001B[0;32mIn [3], line 42\u001B[0m\n\u001B[1;32m     35\u001B[0m agent_007\u001B[38;5;241m.\u001B[39mstore_transition(state\u001B[38;5;241m=\u001B[39mlast_state,action\u001B[38;5;241m=\u001B[39maction,\n\u001B[1;32m     36\u001B[0m                            reward\u001B[38;5;241m=\u001B[39mreward,new_state\u001B[38;5;241m=\u001B[39mcurrent_state,\n\u001B[1;32m     37\u001B[0m                            done_flag\u001B[38;5;241m=\u001B[39mgame_over)\n\u001B[1;32m     41\u001B[0m \u001B[38;5;66;03m# Perform one step of the optimization (on the policy network)\u001B[39;00m\n\u001B[0;32m---> 42\u001B[0m \u001B[43magent_007\u001B[49m\u001B[38;5;241;43m.\u001B[39;49m\u001B[43mlearn\u001B[49m\u001B[43m(\u001B[49m\u001B[43mt_total_counter\u001B[49m\u001B[43m)\u001B[49m\n\u001B[1;32m     43\u001B[0m \u001B[38;5;28;01mif\u001B[39;00m game_over:\n\u001B[1;32m     44\u001B[0m     \u001B[38;5;28;01mbreak\u001B[39;00m\n",
      "File \u001B[0;32m~/Library/CloudStorage/OneDrive-AarhusUniversitet/Div. Github projekter/Snake/DQN2/Agent.py:122\u001B[0m, in \u001B[0;36mAgent.learn\u001B[0;34m(self, t)\u001B[0m\n\u001B[1;32m    119\u001B[0m state_batch, action_batch, reward_batch, new_state_batch, terminal_batch \u001B[38;5;241m=\u001B[39m \u001B[38;5;28mself\u001B[39m\u001B[38;5;241m.\u001B[39msample_memory()\n\u001B[1;32m    121\u001B[0m \u001B[38;5;66;03m# Calculating target Q values\u001B[39;00m\n\u001B[0;32m--> 122\u001B[0m target_q_values \u001B[38;5;241m=\u001B[39m \u001B[38;5;28;43mself\u001B[39;49m\u001B[38;5;241;43m.\u001B[39;49m\u001B[43mtarget_network\u001B[49m\u001B[38;5;241;43m.\u001B[39;49m\u001B[43mforward\u001B[49m\u001B[43m(\u001B[49m\u001B[43mnew_state_batch\u001B[49m\u001B[43m)\u001B[49m\n\u001B[1;32m    124\u001B[0m \u001B[38;5;66;03m# Picking out max values for each\u001B[39;00m\n\u001B[1;32m    125\u001B[0m max_target_q_values \u001B[38;5;241m=\u001B[39m torch\u001B[38;5;241m.\u001B[39mmax(target_q_values, dim\u001B[38;5;241m=\u001B[39m\u001B[38;5;241m1\u001B[39m, keepdim\u001B[38;5;241m=\u001B[39m\u001B[38;5;28;01mTrue\u001B[39;00m)\u001B[38;5;241m.\u001B[39mvalues\n",
      "File \u001B[0;32m~/Library/CloudStorage/OneDrive-AarhusUniversitet/Div. Github projekter/Snake/DQN2/NeuralNet.py:46\u001B[0m, in \u001B[0;36mDeepQNetwork.forward\u001B[0;34m(self, state)\u001B[0m\n\u001B[1;32m     44\u001B[0m state \u001B[38;5;241m=\u001B[39m \u001B[38;5;28mself\u001B[39m\u001B[38;5;241m.\u001B[39mrectifier(\u001B[38;5;28mself\u001B[39m\u001B[38;5;241m.\u001B[39mconv1(state))\n\u001B[1;32m     45\u001B[0m state \u001B[38;5;241m=\u001B[39m \u001B[38;5;28mself\u001B[39m\u001B[38;5;241m.\u001B[39mrectifier(\u001B[38;5;28mself\u001B[39m\u001B[38;5;241m.\u001B[39mconv2(state))\n\u001B[0;32m---> 46\u001B[0m state \u001B[38;5;241m=\u001B[39m \u001B[38;5;28;43mself\u001B[39;49m\u001B[38;5;241;43m.\u001B[39;49m\u001B[43mrectifier\u001B[49m\u001B[43m(\u001B[49m\u001B[38;5;28;43mself\u001B[39;49m\u001B[38;5;241;43m.\u001B[39;49m\u001B[43mconv3\u001B[49m\u001B[43m(\u001B[49m\u001B[43mstate\u001B[49m\u001B[43m)\u001B[49m\u001B[43m)\u001B[49m\n\u001B[1;32m     47\u001B[0m state \u001B[38;5;241m=\u001B[39m torch\u001B[38;5;241m.\u001B[39mflatten(\u001B[38;5;28minput\u001B[39m\u001B[38;5;241m=\u001B[39mstate,start_dim\u001B[38;5;241m=\u001B[39m\u001B[38;5;241m1\u001B[39m)\n\u001B[1;32m     48\u001B[0m state \u001B[38;5;241m=\u001B[39m \u001B[38;5;28mself\u001B[39m\u001B[38;5;241m.\u001B[39mlin1(state)\n",
      "\u001B[0;31mKeyboardInterrupt\u001B[0m: "
     ]
    }
   ],
   "source": [
    "NUM_EPISODES = 100\n",
    "\n",
    "episode_durations = []\n",
    "episode_rewards = []\n",
    "episode_exploration_rates = []\n",
    "\n",
    "t_total_counter = 0\n",
    "for i_episode in tqdm(range(NUM_EPISODES)):\n",
    "    # Initialize the environment and state\n",
    "    game_env = SimpleSnakeApp(seed=MY_SEED + i_episode,  # Try both constant seed and varying seed for each episode\n",
    "                              display_gameplay=False)\n",
    "    current_game_score = 0\n",
    "    current_game_duration = 0\n",
    "\n",
    "    current_exploration_rate = 0\n",
    "    current_steps_counter = 0\n",
    "    game_over = False\n",
    "    current_state = game_env.get_state()\n",
    "\n",
    "    for t in count():\n",
    "        # Select and perform an action according to greedy epsilon strategy\n",
    "        action = agent_007.choose_action(current_state)\n",
    "\n",
    "        # Perform action in game environment and observe reward and new state + termination flag.\n",
    "        reward, game_over, new_observation = game_env.step(action)\n",
    "        current_game_score += reward\n",
    "        reward = torch.tensor([reward])\n",
    "\n",
    "        # Observe new state\n",
    "        last_state = current_state\n",
    "        current_state = new_observation\n",
    "\n",
    "        # Store the transition in memory\n",
    "        # print(type(last_state), type(action),type(reward),type(current_state),type(game_over))\n",
    "        agent_007.store_transition(state=last_state,action=action,\n",
    "                                   reward=reward,new_state=current_state,\n",
    "                                   done_flag=game_over)\n",
    "\n",
    "\n",
    "\n",
    "        # Perform one step of the optimization (on the policy network)\n",
    "        agent_007.learn(t_total_counter)\n",
    "        if game_over:\n",
    "            break\n",
    "        t_total_counter += 1\n",
    "        current_game_duration += 1\n",
    "\n",
    "        # Update the target network, copying all weights and biases in DQN from policy to target network\n",
    "        if t % TARGET_UPDATE == 0:\n",
    "            agent_007.align_networks()\n",
    "\n",
    "    episode_rewards.append(current_game_score)\n",
    "    episode_durations.append(current_game_duration)\n",
    "    episode_exploration_rates.append(agent_007.exploration_rate)\n"
   ],
   "metadata": {
    "collapsed": false,
    "pycharm": {
     "name": "#%%\n"
    }
   }
  },
  {
   "cell_type": "code",
   "execution_count": null,
   "outputs": [],
   "source": [
    "fig, ax = plt.subplots(1,3,figsize=(14,4))\n",
    "ax[0].plot([ i for i in range(len(episode_rewards))], episode_rewards)\n",
    "ax[1].plot([ i for i in range(len(episode_durations))], episode_durations)\n",
    "ax[2].plot([ i for i in range(len(episode_exploration_rates))], episode_exploration_rates)\n",
    "plt.show()"
   ],
   "metadata": {
    "collapsed": false,
    "pycharm": {
     "name": "#%%\n"
    }
   }
  },
  {
   "cell_type": "code",
   "execution_count": null,
   "outputs": [],
   "source": [
    "test = 2, \"b\":3}\n",
    "test[\"a\"]"
   ],
   "metadata": {
    "collapsed": false,
    "pycharm": {
     "name": "#%%\n"
    }
   }
  },
  {
   "cell_type": "code",
   "execution_count": null,
   "outputs": [],
   "source": [],
   "metadata": {
    "collapsed": false,
    "pycharm": {
     "name": "#%%\n"
    }
   }
  }
 ],
 "metadata": {
  "kernelspec": {
   "display_name": "Python 3",
   "language": "python",
   "name": "python3"
  },
  "language_info": {
   "codemirror_mode": {
    "name": "ipython",
    "version": 2
   },
   "file_extension": ".py",
   "mimetype": "text/x-python",
   "name": "python",
   "nbconvert_exporter": "python",
   "pygments_lexer": "ipython2",
   "version": "2.7.6"
  }
 },
 "nbformat": 4,
 "nbformat_minor": 0
}