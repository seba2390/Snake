{
 "cells": [
  {
   "cell_type": "code",
   "execution_count": 1,
   "outputs": [],
   "source": [
    "import matplotlib.pyplot as plt\n",
    "import torch\n",
    "from matplotlib.patches import Rectangle\n",
    "from matplotlib.collections import PatchCollection\n",
    "from NeuralNet import *\n",
    "\n",
    "class FakeReact:\n",
    "    \"\"\" Imitation type class implementation of Pygame Reacts.\n",
    "        Needs 'width' and 'height' for initialization, but auto-adjusts,\n",
    "        remaining params when one is adjusted and implements\n",
    "        'property' type setter/getter attributes.\"\"\"\n",
    "    def __init__(self, height, width,\n",
    "                 centerx: int = 0,\n",
    "                 centery: int = 0,\n",
    "                 left: int = 0,\n",
    "                 right: int = 0,\n",
    "                 top: int = 0,\n",
    "                 bottom: int = 0):\n",
    "        self._height = height\n",
    "        self._width = width\n",
    "        self._centerx = centerx\n",
    "        self._centery = centery\n",
    "        self._left = left\n",
    "        self._right = right\n",
    "        self._top = top\n",
    "        self._bottom = bottom\n",
    "\n",
    "    def _get_right(self):\n",
    "        return self._right\n",
    "\n",
    "    def _set_right(self, value):\n",
    "        self._right = value\n",
    "        self._left = self._right - self._width\n",
    "        self._centerx = self._right - self._width // 2\n",
    "\n",
    "    def _del_right(self):\n",
    "        del self._right\n",
    "\n",
    "    right = property(\n",
    "        fget=_get_right,\n",
    "        fset=_set_right,\n",
    "        fdel=_del_right,\n",
    "        doc=\"The right property.\"\n",
    "    )\n",
    "\n",
    "    def _get_left(self):\n",
    "        return self._left\n",
    "\n",
    "    def _set_left(self, value):\n",
    "        self._left = value\n",
    "        self._right = self._left + self._width\n",
    "        self._centerx = self._left + self._width // 2\n",
    "\n",
    "    def _del_left(self):\n",
    "        del self._left\n",
    "\n",
    "    left = property(\n",
    "        fget=_get_left,\n",
    "        fset=_set_left,\n",
    "        fdel=_del_left,\n",
    "        doc=\"The left property.\"\n",
    "    )\n",
    "\n",
    "\n",
    "    def _get_centerx(self):\n",
    "        return self._centerx\n",
    "\n",
    "    def _set_centerx(self, value):\n",
    "        self._centerx = value\n",
    "        self._left = self._centerx - self._width // 2\n",
    "        self._right = self._left + self._width\n",
    "\n",
    "\n",
    "    def _del_centerx(self):\n",
    "        del self._centerx\n",
    "\n",
    "    centerx = property(\n",
    "        fget=_get_centerx,\n",
    "        fset=_set_centerx,\n",
    "        fdel=_del_centerx,\n",
    "        doc=\"The centerx property.\"\n",
    "    )\n",
    "\n",
    "    def _get_centery(self):\n",
    "        return self._centery\n",
    "\n",
    "    def _set_centery(self, value):\n",
    "        self._centery = value\n",
    "        self._top = self._centery - self._height // 2\n",
    "        self._bottom = self._top + self._height\n",
    "\n",
    "    def _del_centery(self):\n",
    "        del self._centery\n",
    "\n",
    "    centery = property(\n",
    "        fget=_get_centery,\n",
    "        fset=_set_centery,\n",
    "        fdel=_del_centery,\n",
    "        doc=\"The centery property.\"\n",
    "    )\n",
    "\n",
    "\n",
    "    def _get_top(self):\n",
    "        return self._top\n",
    "\n",
    "    def _set_top(self, value):\n",
    "        self._top = value\n",
    "        self._centery = self._top + self._height // 2\n",
    "        self._bottom = self._top + self._height\n",
    "\n",
    "    def _del_top(self):\n",
    "        del self._top\n",
    "\n",
    "    top = property(\n",
    "        fget=_get_top,\n",
    "        fset=_set_top,\n",
    "        fdel=_del_top,\n",
    "        doc=\"The top property.\"\n",
    "    )\n",
    "\n",
    "    def _get_bottom(self):\n",
    "        return self._bottom\n",
    "\n",
    "    def _set_bottom(self, value):\n",
    "        self._bottom = value\n",
    "        self._centery = self._bottom - self._height // 2\n",
    "        self._top = self._bottom - self._height\n",
    "\n",
    "    def _del_bottom(self):\n",
    "        del self._bottom\n",
    "\n",
    "    bottom = property(\n",
    "        fget=_get_bottom,\n",
    "        fset=_set_bottom,\n",
    "        fdel=_del_bottom,\n",
    "        doc=\"The bottom property.\"\n",
    "    )\n",
    "\n",
    "    @property\n",
    "    def width(self):\n",
    "        return self._width\n",
    "\n",
    "    @property\n",
    "    def height(self):\n",
    "        return self._height\n",
    "\n",
    "    def move(self,x,y):\n",
    "        self._set_centerx(self._centerx + x)\n",
    "        self._set_centery(self._centery + y)\n",
    "        return FakeReact(width=self._width,\n",
    "                  height=self._height,\n",
    "                  centerx=self._centerx,\n",
    "                  centery=self._centery,\n",
    "                  left=self._left,\n",
    "                  right=self._right,\n",
    "                  top=self._top,\n",
    "                  bottom=self._bottom)\n",
    "\n",
    "\n",
    "def FakeColliderect(fakerect1: FakeReact,\n",
    "                    fakerect2: FakeReact) -> bool:\n",
    "    if fakerect2.left <= fakerect1.left <= fakerect2.right:\n",
    "        if fakerect2.top <= fakerect1.top <= fakerect2.bottom:\n",
    "            return True\n",
    "        elif fakerect1.top <= fakerect2.top <= fakerect1.bottom:\n",
    "            return True\n",
    "        return False\n",
    "    elif fakerect1.left <= fakerect2.left <= fakerect1.right:\n",
    "        if fakerect2.top <= fakerect1.top <= fakerect2.bottom:\n",
    "            return True\n",
    "        elif fakerect1.top <= fakerect2.top <= fakerect1.bottom:\n",
    "            return True\n",
    "        return False\n",
    "    return False\n",
    "\n",
    "def PlotFakeReacts(fakereacts: list[FakeReact,...]) -> None:\n",
    "    fig, ax = plt.subplots(1,1,figsize=(3,3))\n",
    "    ax.set_xlim(0, 10 * fakereacts[0].width)\n",
    "    ax.set_ylim(- 10 * fakereacts[0].height,0)\n",
    "    ax.set_aspect(\"equal\")\n",
    "    squares = [Rectangle(xy=(fake_rect.left, -fake_rect.bottom),\n",
    "                         width=fake_rect.width,\n",
    "                         height=fake_rect.height) for fake_rect in fakereacts]\n",
    "    pc = PatchCollection(squares, facecolor=[((i+1)*50,(i+1)*100,(i+1)*150) for i in range(len(fakereacts))], alpha=0.9,\n",
    "                         edgecolor='black')\n",
    "    ax.add_collection(pc)\n",
    "    plt.show()\n"
   ],
   "metadata": {
    "collapsed": false,
    "pycharm": {
     "name": "#%%\n"
    }
   }
  },
  {
   "cell_type": "code",
   "execution_count": 2,
   "outputs": [],
   "source": [
    "height, width = 36, 36\n",
    "test = FakeReact(height=height,width=width)"
   ],
   "metadata": {
    "collapsed": false,
    "pycharm": {
     "name": "#%%\n"
    }
   }
  },
  {
   "cell_type": "code",
   "execution_count": 3,
   "outputs": [
    {
     "data": {
      "text/plain": "(90, 54, 54, 90, 72, 72, 36, 36)"
     },
     "execution_count": 3,
     "metadata": {},
     "output_type": "execute_result"
    }
   ],
   "source": [
    "test.centery = 4*height//2\n",
    "test.centerx = 4*height//2\n",
    "test.right, test.left, test.top, test.bottom, test.centerx, test.centery, test.width, test.height,"
   ],
   "metadata": {
    "collapsed": false,
    "pycharm": {
     "name": "#%%\n"
    }
   }
  },
  {
   "cell_type": "code",
   "execution_count": 4,
   "outputs": [
    {
     "data": {
      "text/plain": "(54, 18, 36, 72, 36, 54, 36, 36)"
     },
     "execution_count": 4,
     "metadata": {},
     "output_type": "execute_result"
    }
   ],
   "source": [
    "test2 = FakeReact(height=height,width=width)\n",
    "test2.centery = 3*height//2\n",
    "test2.centerx = 2*height//2\n",
    "test2.right, test2.left, test2.top, test2.bottom, test2.centerx, test2.centery, test2.width, test2.height,"
   ],
   "metadata": {
    "collapsed": false,
    "pycharm": {
     "name": "#%%\n"
    }
   }
  },
  {
   "cell_type": "code",
   "execution_count": 5,
   "outputs": [
    {
     "data": {
      "text/plain": "<Figure size 300x300 with 1 Axes>",
      "image/png": "[encoded data removed]"
     },
     "metadata": {},
     "output_type": "display_data"
    },
    {
     "data": {
      "text/plain": "(None, True)"
     },
     "execution_count": 5,
     "metadata": {},
     "output_type": "execute_result"
    }
   ],
   "source": [
    "my_reacts = [test, test2]\n",
    "PlotFakeReacts(my_reacts), FakeColliderect(my_reacts[0],my_reacts[1])"
   ],
   "metadata": {
    "collapsed": false,
    "pycharm": {
     "name": "#%%\n"
    }
   }
  },
  {
   "cell_type": "code",
   "execution_count": 6,
   "outputs": [
    {
     "data": {
      "text/plain": "<Figure size 300x300 with 1 Axes>",
      "image/png": "[encoded data removed]"
     },
     "metadata": {},
     "output_type": "display_data"
    }
   ],
   "source": [
    "test2 = test2.move(x=100,y=0)\n",
    "my_reacts = [test, test2]\n",
    "PlotFakeReacts(my_reacts)"
   ],
   "metadata": {
    "collapsed": false,
    "pycharm": {
     "name": "#%%\n"
    }
   }
  },
  {
   "cell_type": "code",
   "execution_count": 8,
   "outputs": [],
   "source": [
    "hehe = NeuralNetwork()"
   ],
   "metadata": {
    "collapsed": false,
    "pycharm": {
     "name": "#%%\n"
    }
   }
  },
  {
   "cell_type": "code",
   "execution_count": 28,
   "outputs": [
    {
     "name": "stdout",
     "output_type": "stream",
     "text": [
      "tensor([[ 0.2236, -0.2129,  0.2783, -0.0564, -0.0557, -0.1051, -0.3037,  0.1256],\n",
      "        [-0.3183, -0.2194, -0.3289, -0.2271, -0.1226, -0.3334, -0.0317,  0.1685],\n",
      "        [ 0.0286, -0.1903, -0.0951, -0.2220,  0.1643, -0.0834, -0.0950,  0.0583],\n",
      "        [-0.2319, -0.3380,  0.2820,  0.3282,  0.2033, -0.0450,  0.0764,  0.0875],\n",
      "        [ 0.2188, -0.3507,  0.3009,  0.1165, -0.0952, -0.2477,  0.2210,  0.0923],\n",
      "        [ 0.0796, -0.2436,  0.0705, -0.1945,  0.0742,  0.3462,  0.1909,  0.2289],\n",
      "        [ 0.2733,  0.1723, -0.1190, -0.1697,  0.2489,  0.0484, -0.2282,  0.2769],\n",
      "        [-0.3096, -0.2094, -0.0207,  0.1830,  0.3020, -0.2730,  0.1852,  0.2453]])\n",
      "tensor([-0.3287,  0.2067,  0.3225,  0.2282, -0.1669,  0.0007,  0.2505, -0.0333])\n",
      "tensor([[ 1.2559e-01,  2.2984e-01, -3.7825e-02, -2.3482e-01, -2.5623e-01,\n",
      "          2.4306e-01, -2.5163e-02,  2.7425e-01],\n",
      "        [ 3.5043e-01, -2.7476e-01,  1.2905e-01, -1.0688e-01,  6.5672e-02,\n",
      "         -2.1636e-01, -2.3448e-02,  9.3499e-02],\n",
      "        [ 2.2662e-01,  2.0751e-01, -1.8020e-01, -3.1948e-01, -1.1902e-01,\n",
      "          2.8046e-01, -2.6239e-01, -2.4474e-01],\n",
      "        [ 6.9097e-02, -4.1550e-02, -7.2184e-02, -1.5273e-01, -2.1179e-01,\n",
      "          3.2119e-01, -2.1222e-01, -2.7741e-01],\n",
      "        [ 9.9936e-02,  1.5677e-01,  1.0666e-04,  2.8779e-01,  3.2263e-01,\n",
      "         -2.5713e-01, -3.7281e-02,  1.6251e-01],\n",
      "        [ 2.1242e-01,  1.9152e-02,  2.8149e-02, -1.2454e-01,  2.2385e-01,\n",
      "         -7.8905e-02,  6.0777e-02, -1.1659e-01],\n",
      "        [-1.7558e-02, -2.7559e-01, -2.4412e-01, -1.3535e-02, -2.4891e-01,\n",
      "          2.8320e-02,  2.6148e-01, -3.5346e-02],\n",
      "        [-3.8137e-02, -1.8989e-01, -2.6466e-01,  1.3530e-01, -3.1605e-01,\n",
      "         -2.7248e-01,  2.6253e-01, -3.5169e-02]])\n",
      "tensor([ 0.2489, -0.2394, -0.0009,  0.2123,  0.0337,  0.1595,  0.1760,  0.0628])\n",
      "tensor([[ 0.1870, -0.0675, -0.3192, -0.1827, -0.2931, -0.1135, -0.1866, -0.1568],\n",
      "        [ 0.2492,  0.1371,  0.1889,  0.1810,  0.0694, -0.2979, -0.2362, -0.2524],\n",
      "        [ 0.0436,  0.1976,  0.1684,  0.0963, -0.2530, -0.0022, -0.2824, -0.3506],\n",
      "        [ 0.1316, -0.2030, -0.1872, -0.1957, -0.2220, -0.0038,  0.0127, -0.2391]])\n",
      "tensor([-0.0454, -0.2097,  0.2001, -0.3005])\n"
     ]
    }
   ],
   "source": [
    "for layer_name in hehe.state_dict():\n",
    "    if \"weight\" not in layer_name and \"bias\" not in layer_name:\n",
    "        continue\n",
    "    else:\n",
    "        print(hehe.state_dict()[layer_name])\n"
   ],
   "metadata": {
    "collapsed": false,
    "pycharm": {
     "name": "#%%\n"
    }
   }
  },
  {
   "cell_type": "code",
   "execution_count": 29,
   "outputs": [],
   "source": [
    "lr = 0.01\n",
    "for layer_name in hehe.state_dict():\n",
    "    if \"weight\" not in layer_name and \"bias\" not in layer_name:\n",
    "        continue\n",
    "    hehe.state_dict()[layer_name] += lr*torch.rand(size=hehe.state_dict()[layer_name].shape)"
   ],
   "metadata": {
    "collapsed": false,
    "pycharm": {
     "name": "#%%\n"
    }
   }
  },
  {
   "cell_type": "code",
   "execution_count": 30,
   "outputs": [
    {
     "name": "stdout",
     "output_type": "stream",
     "text": [
      "tensor([[ 0.2301, -0.2066,  0.2832, -0.0511, -0.0541, -0.1039, -0.2945,  0.1356],\n",
      "        [-0.3153, -0.2167, -0.3250, -0.2244, -0.1198, -0.3255, -0.0271,  0.1757],\n",
      "        [ 0.0326, -0.1828, -0.0867, -0.2139,  0.1737, -0.0825, -0.0904,  0.0676],\n",
      "        [-0.2265, -0.3375,  0.2838,  0.3348,  0.2109, -0.0404,  0.0787,  0.0969],\n",
      "        [ 0.2269, -0.3504,  0.3102,  0.1219, -0.0871, -0.2395,  0.2273,  0.0969],\n",
      "        [ 0.0825, -0.2395,  0.0769, -0.1877,  0.0793,  0.3526,  0.1930,  0.2385],\n",
      "        [ 0.2807,  0.1795, -0.1176, -0.1639,  0.2504,  0.0499, -0.2232,  0.2795],\n",
      "        [-0.3011, -0.2058, -0.0165,  0.1850,  0.3054, -0.2639,  0.1876,  0.2476]])\n",
      "tensor([-0.3239,  0.2142,  0.3237,  0.2332, -0.1588,  0.0017,  0.2510, -0.0317])\n",
      "tensor([[ 0.1293,  0.2383, -0.0337, -0.2308, -0.2517,  0.2476, -0.0205,  0.2819],\n",
      "        [ 0.3575, -0.2663,  0.1315, -0.1018,  0.0720, -0.2072, -0.0215,  0.0999],\n",
      "        [ 0.2312,  0.2099, -0.1785, -0.3163, -0.1121,  0.2858, -0.2533, -0.2429],\n",
      "        [ 0.0751, -0.0410, -0.0704, -0.1449, -0.2042,  0.3242, -0.2059, -0.2702],\n",
      "        [ 0.1047,  0.1640,  0.0072,  0.2906,  0.3231, -0.2510, -0.0276,  0.1717],\n",
      "        [ 0.2137,  0.0215,  0.0297, -0.1149,  0.2250, -0.0788,  0.0631, -0.1085],\n",
      "        [-0.0174, -0.2699, -0.2441, -0.0077, -0.2409,  0.0288,  0.2704, -0.0281],\n",
      "        [-0.0318, -0.1845, -0.2557,  0.1375, -0.3084, -0.2708,  0.2631, -0.0267]])\n",
      "tensor([ 0.2494, -0.2361,  0.0081,  0.2177,  0.0374,  0.1674,  0.1837,  0.0648])\n",
      "tensor([[ 0.1936, -0.0654, -0.3150, -0.1818, -0.2918, -0.1106, -0.1780, -0.1544],\n",
      "        [ 0.2565,  0.1385,  0.1963,  0.1909,  0.0766, -0.2935, -0.2310, -0.2454],\n",
      "        [ 0.0480,  0.2053,  0.1695,  0.1056, -0.2457,  0.0011, -0.2744, -0.3419],\n",
      "        [ 0.1394, -0.1950, -0.1837, -0.1932, -0.2203, -0.0013,  0.0199, -0.2373]])\n",
      "tensor([-0.0431, -0.2003,  0.2052, -0.2950])\n"
     ]
    }
   ],
   "source": [
    "for layer_name in hehe.state_dict():\n",
    "    if \"weight\" not in layer_name and \"bias\" not in layer_name:\n",
    "        continue\n",
    "    else:\n",
    "        print(hehe.state_dict()[layer_name])"
   ],
   "metadata": {
    "collapsed": false,
    "pycharm": {
     "name": "#%%\n"
    }
   }
  },
  {
   "cell_type": "code",
   "execution_count": 34,
   "outputs": [
    {
     "name": "stdout",
     "output_type": "stream",
     "text": [
      "[1 3 2 4 0]\n",
      "[-23   0   9  33  99]\n"
     ]
    }
   ],
   "source": [
    "hehe = [99,-23,9,0,33]\n",
    "print(np.argsort(np.array(hehe)))\n",
    "print(np.array(hehe)[np.argsort(np.array(hehe))])"
   ],
   "metadata": {
    "collapsed": false,
    "pycharm": {
     "name": "#%%\n"
    }
   }
  },
  {
   "cell_type": "code",
   "execution_count": null,
   "outputs": [],
   "source": [],
   "metadata": {
    "collapsed": false,
    "pycharm": {
     "name": "#%%\n"
    }
   }
  }
 ],
 "metadata": {
  "kernelspec": {
   "display_name": "Python 3",
   "language": "python",
   "name": "python3"
  },
  "language_info": {
   "codemirror_mode": {
    "name": "ipython",
    "version": 2
   },
   "file_extension": ".py",
   "mimetype": "text/x-python",
   "name": "python",
   "nbconvert_exporter": "python",
   "pygments_lexer": "ipython2",
   "version": "2.7.6"
  }
 },
 "nbformat": 4,
 "nbformat_minor": 0
}