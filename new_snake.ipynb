{
 "cells": [
  {
   "cell_type": "code",
   "execution_count": 1,
   "outputs": [
    {
     "name": "stdout",
     "output_type": "stream",
     "text": [
      "pygame 2.1.2 (SDL 2.0.18, Python 3.10.6)\n",
      "Hello from the pygame community. https://www.pygame.org/contribute.html\n"
     ]
    }
   ],
   "source": [
    "import collections\n",
    "import pygame\n",
    "from copy import deepcopy"
   ],
   "metadata": {
    "collapsed": false,
    "pycharm": {
     "name": "#%%\n"
    }
   }
  },
  {
   "cell_type": "code",
   "execution_count": 2,
   "metadata": {
    "collapsed": true,
    "pycharm": {
     "name": "#%%\n"
    }
   },
   "outputs": [],
   "source": [
    "class SimpleSnakeApp:\n",
    "    def __init__(self, seed, neural_net=None, display_gameplay: bool = True):\n",
    "\n",
    "        self.seed = seed\n",
    "        np.random.seed(seed=self.seed)\n",
    "        self.display_gameplay = display_gameplay\n",
    "        self.graphics_speed = 4  # chose 1,2,3,4,5,6,7\n",
    "\n",
    "        self.neural_net = None\n",
    "        if neural_net is not None:\n",
    "            self.neural_net = neural_net\n",
    "\n",
    "        self.current_reward = 0\n",
    "        self.loss = 0\n",
    "\n",
    "        self.apple_reward = 1\n",
    "        self.snake_2_snake_punishment = -1\n",
    "        self.snake_2_wall_punishment = -1\n",
    "\n",
    "        self.max_iterations = 3000\n",
    "        self.break_out_counter = 0\n",
    "\n",
    "        if self.display_gameplay:\n",
    "            self.running = True\n",
    "            self.display_surf = None\n",
    "            self.background_surf = None\n",
    "            self.fps = pygame.time.Clock()\n",
    "        self.screen_size = self.screen_width, self.screen_height = 690, 690\n",
    "\n",
    "        self.snake_block_surf = None\n",
    "        self.snake_block_size = self.snake_block_width, self.snake_block_height = 30, 30\n",
    "        self.max_nr_snake_blocks = (self.screen_width // self.snake_block_width) * (\n",
    "                self.screen_height // self.snake_block_height)\n",
    "        self.snake_block_reacts = np.zeros(shape=(self.max_nr_snake_blocks,), dtype=object)\n",
    "        self.current_snake_blocks = 1\n",
    "\n",
    "        self.snake_velocity = self.snake_block_width  # pixels pr. frame\n",
    "        self.snake_head_direction = np.random.choice([\"up\", \"down\", \"left\", \"right\"])\n",
    "        self.snake_head_history = []\n",
    "        self.spawn_delay = int(self.snake_block_height / self.snake_velocity)\n",
    "        self.spawn_snake_block_flag = False\n",
    "\n",
    "        self.apple_block_surf = None\n",
    "        self.apple_block_react = None\n",
    "        self.apple_block_size = self.apple_block_width, self.apple_block_height = 30, 30\n",
    "        self.spawn_apple_flag = True\n",
    "        self.game_over = False\n",
    "        self.current_score = 0\n",
    "\n",
    "        if self.display_gameplay:\n",
    "            pygame.font.init()\n",
    "            self.text_color = (255, 255, 255)  # White\n",
    "            self.score_board_font = pygame.font.Font(\"media/my_font.ttf\", 25)\n",
    "            self.score_text_surface = self.score_board_font.render(\"score: \", True, self.text_color, None)\n",
    "            self.score_text_react = self.score_text_surface.get_rect()\n",
    "            self.score_text_react.left = 30\n",
    "            self.score_text_react.top = 5\n",
    "\n",
    "            self.score_value_surface = self.score_board_font.render(str(self.current_score), True, self.text_color,\n",
    "                                                                    None)\n",
    "            self.score_value_react = self.score_value_surface.get_rect()\n",
    "            self.score_value_react.left = self.score_text_react.right + 20\n",
    "            self.score_value_react.top = 5\n",
    "\n",
    "            self.deaths_text_surface = self.score_board_font.render(\"deaths: \", True, self.text_color, None)\n",
    "            self.deaths_text_react = self.deaths_text_surface.get_rect()\n",
    "            self.deaths_text_react.left = self.screen_width // 2 - 55\n",
    "            self.deaths_text_react.top = 5\n",
    "\n",
    "            self.nr_deaths = 0\n",
    "            self.deaths_value_surface = self.score_board_font.render(str(self.nr_deaths), True, self.text_color, None)\n",
    "            self.deaths_value_react = self.deaths_value_surface.get_rect()\n",
    "            self.deaths_value_react.left = self.screen_width // 2 + 30\n",
    "            self.deaths_value_react.top = 5\n",
    "\n",
    "            self.record_text_surface = self.score_board_font.render(\"record: \", True, self.text_color, None)\n",
    "            self.record_text_react = self.record_text_surface.get_rect()\n",
    "            self.record_text_react.left = self.screen_width - 120\n",
    "            self.record_text_react.top = 5\n",
    "\n",
    "            self.record = 0\n",
    "            self.record_value_surface = self.score_board_font.render(str(self.nr_deaths), True, self.text_color, None)\n",
    "            self.record_value_react = self.record_value_surface.get_rect()\n",
    "            self.record_value_react.left = self.screen_width - 45\n",
    "            self.record_value_react.top = 5\n",
    "\n",
    "        self.on_init()\n",
    "\n",
    "    def on_init(self):\n",
    "        # Initializing pygame and loading in graphics for background\n",
    "        self.running = True\n",
    "        if self.display_gameplay:\n",
    "            pygame.init()\n",
    "\n",
    "            self.display_surf = pygame.display.set_mode(size=self.screen_size,\n",
    "                                                        flags=(pygame.HWSURFACE or pygame.DOUBLEBUF))\n",
    "        if self.display_gameplay:\n",
    "            self.background_surf = pygame.image.load(\"media/background_2.png\").convert()\n",
    "\n",
    "        # Loading in graphics for snake\n",
    "        if self.display_gameplay:\n",
    "            self.snake_block_surf = pygame.image.load(\"media/snake_block_2.png\").convert_alpha()\n",
    "            self.snake_block_reacts[self.current_snake_blocks - 1] = self.snake_block_surf.get_rect()\n",
    "\n",
    "            self.snake_block_reacts[self.current_snake_blocks - 1].left = 10 * self.snake_block_width\n",
    "            self.snake_block_reacts[self.current_snake_blocks - 1].top = 10 * self.snake_block_height\n",
    "        else:\n",
    "            self.snake_block_reacts[self.current_snake_blocks - 1] = FakeReact(width=self.snake_block_width,\n",
    "                                                                               height=self.snake_block_height)\n",
    "            x_fraction = self.screen_width // self.snake_block_width\n",
    "            y_fraction = self.screen_height // self.snake_block_height\n",
    "            x_rand = self.snake_block_width // 2 + np.random.randint(low=0, high=x_fraction) * self.snake_block_width\n",
    "            y_rand = self.snake_block_height // 2 + np.random.randint(low=0, high=y_fraction) * self.snake_block_height\n",
    "            assert self.snake_block_width // 2 <= x_rand <= self.screen_width - self.snake_block_width // 2\n",
    "            assert self.snake_block_height // 2 <= y_rand <= self.screen_height - self.snake_block_height // 2\n",
    "            self.snake_block_reacts[self.current_snake_blocks - 1].centerx = x_rand\n",
    "            self.snake_block_reacts[self.current_snake_blocks - 1].centery = y_rand\n",
    "\n",
    "        # Loading in graphics for apple¨\n",
    "        if self.display_gameplay:\n",
    "            self.apple_block_surf = pygame.image.load(\"media/apple_2.png\").convert_alpha()\n",
    "            self.apple_block_react = self.snake_block_surf.get_rect()\n",
    "        else:\n",
    "            self.apple_block_react = FakeReact(width=self.apple_block_width,\n",
    "                                               height=self.apple_block_height)\n",
    "\n",
    "    def spawn_snake_block(self):\n",
    "        self.spawn_snake_block_flag = False\n",
    "        if self.display_gameplay:\n",
    "            snake_block = self.snake_block_surf.get_rect()\n",
    "        else:\n",
    "            snake_block = FakeReact(width=self.snake_block_width,\n",
    "                                    height=self.snake_block_height)\n",
    "        index = self.current_snake_blocks - 1\n",
    "        if self.snake_head_history[0][2] == 'right':\n",
    "            snake_block.centerx = self.snake_block_reacts[index].centerx - self.snake_block_width\n",
    "            snake_block.centery = self.snake_block_reacts[index].centery\n",
    "        elif self.snake_head_history[0][2] == 'left':\n",
    "            snake_block.centerx = self.snake_block_reacts[index].centerx + self.snake_block_width\n",
    "            snake_block.centery = self.snake_block_reacts[index].centery\n",
    "        elif self.snake_head_history[0][2] == 'up':\n",
    "            snake_block.centerx = self.snake_block_reacts[index].centerx\n",
    "            snake_block.centery = self.snake_block_reacts[index].centery + self.snake_block_height\n",
    "        elif self.snake_head_history[0][2] == 'down':\n",
    "            snake_block.centerx = self.snake_block_reacts[index].centerx\n",
    "            snake_block.centery = self.snake_block_reacts[index].centery - self.snake_block_height\n",
    "        self.snake_block_reacts[self.current_snake_blocks] = snake_block\n",
    "        self.current_snake_blocks += 1\n",
    "\n",
    "    def spawn_apple(self):\n",
    "        self.spawn_apple_flag = False\n",
    "        grid_size = self.screen_width / self.snake_block_width\n",
    "        overlapping_snake = True\n",
    "        while overlapping_snake:\n",
    "            self.apple_block_react.left = np.random.randint(low=0, high=grid_size, size=1)[0]\n",
    "            self.apple_block_react.top = np.random.randint(low=0, high=grid_size, size=1)[0]\n",
    "            self.apple_block_react.left *= self.apple_block_width\n",
    "            self.apple_block_react.top *= self.apple_block_height\n",
    "\n",
    "            for snake_block in range(self.current_snake_blocks):\n",
    "                if self.apple_block_react.left == self.snake_block_reacts[snake_block].left:\n",
    "                    if self.apple_block_react.top == self.snake_block_reacts[snake_block].top:\n",
    "                        overlapping_snake = True\n",
    "                    else:\n",
    "                        overlapping_snake = False\n",
    "            for snake_block in range(self.current_snake_blocks):\n",
    "                if self.display_gameplay:\n",
    "                    if pygame.Rect.colliderect(self.apple_block_react, self.snake_block_reacts[snake_block]):\n",
    "                        overlapping_snake = True\n",
    "                    else:\n",
    "                        overlapping_snake = False\n",
    "                else:\n",
    "                    if FakeColliderect(self.apple_block_react, self.snake_block_reacts[snake_block]):\n",
    "                        overlapping_snake = True\n",
    "                    else:\n",
    "                        overlapping_snake = False\n",
    "\n",
    "    def update_score(self):\n",
    "        self.current_score += 1\n",
    "        self.loss += self.apple_reward\n",
    "        self.current_reward += self.apple_reward\n",
    "        if self.display_gameplay:\n",
    "            current_x, current_y = self.score_value_react.centerx, self.score_value_react.centery\n",
    "            self.score_value_surface = self.score_board_font.render(str(self.current_score), True, self.text_color,\n",
    "                                                                    None)\n",
    "            self.score_value_react = self.score_value_surface.get_rect()\n",
    "            self.score_value_react.centerx, self.score_value_react.centery = current_x, current_y\n",
    "\n",
    "    def update_snake_head_position(self):\n",
    "        if self.snake_head_direction == \"right\":\n",
    "            self.snake_block_reacts[0] = self.snake_block_reacts[0].move(self.snake_velocity, 0)\n",
    "        elif self.snake_head_direction == \"left\":\n",
    "            self.snake_block_reacts[0] = self.snake_block_reacts[0].move(-self.snake_velocity, 0)\n",
    "        elif self.snake_head_direction == \"up\":\n",
    "            self.snake_block_reacts[0] = self.snake_block_reacts[0].move(0, -self.snake_velocity)\n",
    "        elif self.snake_head_direction == \"down\":\n",
    "            self.snake_block_reacts[0] = self.snake_block_reacts[0].move(0, self.snake_velocity)\n",
    "\n",
    "    def update_snake_body_position(self):\n",
    "        if self.current_snake_blocks > 1:\n",
    "            for snake_body_block in range(1, self.current_snake_blocks):\n",
    "                history_index = snake_body_block * self.spawn_delay\n",
    "                history_len = len(self.snake_head_history) - 1\n",
    "                self.snake_block_reacts[snake_body_block].centerx = \\\n",
    "                    self.snake_head_history[history_len - history_index][0]\n",
    "                self.snake_block_reacts[snake_body_block].centery = \\\n",
    "                    self.snake_head_history[history_len - history_index][1]\n",
    "\n",
    "    def save_snake_head_history(self):\n",
    "        self.snake_head_history.append([self.snake_block_reacts[0].centerx,\n",
    "                                        self.snake_block_reacts[0].centery,\n",
    "                                        self.snake_head_direction])\n",
    "\n",
    "    def update_snake_head_history(self):\n",
    "        history_length = self.current_snake_blocks * self.spawn_delay\n",
    "        if len(self.snake_head_history) > history_length:\n",
    "            self.snake_head_history = self.snake_head_history[(len(self.snake_head_history) - history_length):]\n",
    "\n",
    "    def on_event(self, event):\n",
    "        if event.type == pygame.QUIT:\n",
    "            self.running = False\n",
    "\n",
    "        # If no neural net is given - user control is enabled\n",
    "        if self.neural_net is None:\n",
    "            if event.type == pygame.KEYDOWN:\n",
    "                if event.key == pygame.K_RIGHT:\n",
    "                    if self.snake_head_direction != \"left\":\n",
    "                        self.snake_head_direction = \"right\"\n",
    "                elif event.key == pygame.K_LEFT:\n",
    "                    if self.snake_head_direction != \"right\":\n",
    "                        self.snake_head_direction = \"left\"\n",
    "                elif event.key == pygame.K_UP:\n",
    "                    if self.snake_head_direction != \"down\":\n",
    "                        self.snake_head_direction = \"up\"\n",
    "                elif event.key == pygame.K_DOWN:\n",
    "                    if self.snake_head_direction != \"up\":\n",
    "                        self.snake_head_direction = \"down\"\n",
    "\n",
    "    def control_input(self, direction: int) -> None:\n",
    "        int_2_str = {0: \"right\", 1: \"left\", 2: \"up\", 3: \"down\"}\n",
    "        direction = int_2_str[direction]\n",
    "        assert type(direction) is str, f'action not given as str, but as {type(direction)}'\n",
    "        if direction == \"right\":\n",
    "            if self.snake_head_direction != \"left\":\n",
    "                self.snake_head_direction = \"right\"\n",
    "        elif direction == \"left\":\n",
    "            if self.snake_head_direction != \"right\":\n",
    "                self.snake_head_direction = \"left\"\n",
    "        elif direction == \"up\":\n",
    "            if self.snake_head_direction != \"down\":\n",
    "                self.snake_head_direction = \"up\"\n",
    "        elif direction == \"down\":\n",
    "            if self.snake_head_direction != \"up\":\n",
    "                self.snake_head_direction = \"down\"\n",
    "\n",
    "    def snake_2_apple_collision_detection(self):\n",
    "        if self.display_gameplay:\n",
    "            if pygame.Rect.colliderect(self.apple_block_react, self.snake_block_reacts[0]):\n",
    "                self.spawn_apple_flag = True\n",
    "                self.spawn_snake_block_flag = True\n",
    "                self.update_score()\n",
    "        else:\n",
    "            if FakeColliderect(self.apple_block_react, self.snake_block_reacts[0]):\n",
    "                self.spawn_apple_flag = True\n",
    "                self.spawn_snake_block_flag = True\n",
    "                self.update_score()\n",
    "\n",
    "    def snake_2_wall_collision_detection(self):\n",
    "        x_min, x_max = 0, self.screen_width\n",
    "        y_min, y_max = 0, self.screen_width\n",
    "        snake_head = self.snake_block_reacts[0]\n",
    "        if snake_head.left < x_min or snake_head.right > x_max:\n",
    "            self.current_reward += self.snake_2_wall_punishment\n",
    "            self.loss += self.snake_2_wall_punishment\n",
    "            self.game_over = True\n",
    "        elif snake_head.bottom > y_max or snake_head.top < y_min:\n",
    "            self.current_reward += self.snake_2_wall_punishment\n",
    "            self.loss += self.snake_2_wall_punishment\n",
    "            self.game_over = True\n",
    "\n",
    "    def snake_2_snake_collision_detection(self):\n",
    "        if self.current_snake_blocks > 1:\n",
    "            snake_head = self.snake_block_reacts[0]\n",
    "            for snake_body_index in range(2, self.current_snake_blocks):\n",
    "                snake_body = self.snake_block_reacts[snake_body_index]\n",
    "                if self.display_gameplay:\n",
    "                    if pygame.Rect.colliderect(snake_head, snake_body):\n",
    "                        self.current_reward += self.snake_2_snake_punishment\n",
    "                        self.loss += self.snake_2_snake_punishment\n",
    "                        self.game_over = True\n",
    "                else:\n",
    "                    if FakeColliderect(snake_head, snake_body):\n",
    "                        self.current_reward += self.snake_2_snake_punishment\n",
    "                        self.loss += self.snake_2_snake_punishment\n",
    "                        self.game_over = True\n",
    "\n",
    "    def in_game_render(self):\n",
    "        if self.display_gameplay:\n",
    "            # Rendering background\n",
    "            self.display_surf.blit(self.background_surf, (0, 0))\n",
    "            # Rendering snake\n",
    "            for snake_block in range(self.current_snake_blocks):\n",
    "                self.display_surf.blit(self.snake_block_surf, self.snake_block_reacts[snake_block])\n",
    "            # Rendering apple\n",
    "            self.display_surf.blit(self.apple_block_surf, self.apple_block_react)\n",
    "            # Rendering score text\n",
    "            self.display_surf.blit(self.score_text_surface, self.score_text_react)\n",
    "            # Rendering score value\n",
    "            self.display_surf.blit(self.score_value_surface, self.score_value_react)\n",
    "            # Rendering nr deaths text\n",
    "            self.display_surf.blit(self.deaths_text_surface, self.deaths_text_react)\n",
    "            # Rendering nr deaths value\n",
    "            self.display_surf.blit(self.deaths_value_surface, self.deaths_value_react)\n",
    "            # Rendering record text\n",
    "            self.display_surf.blit(self.record_text_surface, self.record_text_react)\n",
    "            # Rendering record value\n",
    "            self.display_surf.blit(self.record_value_surface, self.record_value_react)\n",
    "\n",
    "            self.fps.tick(self.graphics_speed * 10)\n",
    "            pygame.display.flip()  # This is needed for image to show up ??\n",
    "\n",
    "    def on_cleanup(self):\n",
    "        if self.display_gameplay:\n",
    "            pygame.quit()\n",
    "\n",
    "    def on_execute(self):\n",
    "\n",
    "        if self.on_init() is False:\n",
    "            self.running = False\n",
    "\n",
    "        self.spawn_apple()\n",
    "        while self.running:\n",
    "            if self.display_gameplay:\n",
    "                for _event in pygame.event.get():\n",
    "                    self.on_event(_event)\n",
    "\n",
    "            if not self.game_over:\n",
    "                if self.break_out_counter == self.max_iterations:  # If snakes starts looping around\n",
    "                    self.game_over = True\n",
    "                    break\n",
    "\n",
    "                if self.neural_net is not None:\n",
    "                    current_state = self.get_state_2()\n",
    "                    possible_actions = self.neural_net.forward(current_state)\n",
    "                    current_action_index = torch.argmax(input=self.neural_net.forward(current_state)).item()\n",
    "                    self.control_input(current_action_index)\n",
    "\n",
    "                self.update_snake_head_position()\n",
    "                self.snake_2_snake_collision_detection()\n",
    "                self.snake_2_apple_collision_detection()\n",
    "                self.snake_2_wall_collision_detection()\n",
    "\n",
    "                self.save_snake_head_history()\n",
    "                self.update_snake_head_history()\n",
    "                self.update_snake_body_position()\n",
    "\n",
    "                if self.spawn_snake_block_flag:\n",
    "                    self.spawn_snake_block()\n",
    "\n",
    "                if self.spawn_apple_flag:\n",
    "                    self.spawn_apple()\n",
    "                    self.break_out_counter = 0\n",
    "\n",
    "                # Weird bug - sometimes apple spawns inside snake even though it shouldn't - this should fix it\n",
    "                if self.apple_in_snake():\n",
    "                    while self.apple_in_snake():\n",
    "                        self.spawn_apple()\n",
    "                assert self.apple_in_snake() is False\n",
    "\n",
    "                if self.display_gameplay:\n",
    "                    self.in_game_render()\n",
    "\n",
    "                self.break_out_counter += 1\n",
    "            else:\n",
    "                self.running = False\n",
    "\n",
    "        self.on_cleanup()\n",
    "\n",
    "\n",
    "\n",
    "\n",
    "# spawn snake head\n",
    "# spawn apple head"
   ]
  },
  {
   "cell_type": "code",
   "execution_count": 3,
   "outputs": [
    {
     "data": {
      "text/plain": "(2, 3)"
     },
     "execution_count": 3,
     "metadata": {},
     "output_type": "execute_result"
    }
   ],
   "source": [
    "import numpy as np\n",
    "x, y = np.random.randint(low=0,high=5,size=2)\n",
    "x,y"
   ],
   "metadata": {
    "collapsed": false,
    "pycharm": {
     "name": "#%%\n"
    }
   }
  },
  {
   "cell_type": "code",
   "execution_count": 4,
   "outputs": [
    {
     "data": {
      "text/plain": "(2, 3)"
     },
     "execution_count": 4,
     "metadata": {},
     "output_type": "execute_result"
    }
   ],
   "source": [
    "x,y"
   ],
   "metadata": {
    "collapsed": false,
    "pycharm": {
     "name": "#%%\n"
    }
   }
  },
  {
   "cell_type": "code",
   "execution_count": 354,
   "outputs": [],
   "source": [
    "class Block:\n",
    "    def __init__(self,\n",
    "                 rect: pygame.Rect,\n",
    "                 direction: str):\n",
    "        self.rect = rect\n",
    "        self.direction = direction\n",
    "\n",
    "class History:\n",
    "    def __init__(self, length: int):\n",
    "        self.length = length\n",
    "        self.history = collections.deque([],maxlen=self.length)\n",
    "\n",
    "    def add(self, state: tuple[int | float, int | float, str]) -> None:\n",
    "        self.history.append(state)\n",
    "\n",
    "    def get(self, index: int) -> tuple[int | float, int | float, str]:\n",
    "        return self.history.__getitem__(index)\n",
    "\n",
    "    def set_length(self, new_length: int) -> None:\n",
    "        assert new_length >= self.history.__len__(), f'New length should be >= current.'\n",
    "        self.history = collections.deque(list(deepcopy(self.history)),maxlen=new_length)\n",
    "\n",
    "\n",
    "class Snake:\n",
    "    \"\"\" In this implementation it is assumed that\n",
    "        'positive x' is to the right and that\n",
    "        'positive y' is downwards. \"\"\"\n",
    "    def __init__(self,\n",
    "                 rect: pygame.Rect,\n",
    "                 screen_size: int,\n",
    "                 seed: int) -> None:\n",
    "\n",
    "        # For RNG reproducibility\n",
    "        np.random.seed(seed)\n",
    "\n",
    "        self._rect = rect\n",
    "        self._block_size = self._rect.size[0]\n",
    "        self._screen_size = screen_size\n",
    "        self._snake_blocks = []\n",
    "\n",
    "        self.snake_length = 0\n",
    "        self.history = History(length=self.snake_length)\n",
    "\n",
    "    def update_snake_length(self):\n",
    "        \"\"\" Updating length of snake and history \"\"\"\n",
    "        self.snake_length = len(self._snake_blocks)\n",
    "        self.history.set_length(self.snake_length)\n",
    "\n",
    "    def _add_head_block(self, direction: str = \"Unknown\") -> None:\n",
    "        \"\"\" Assuming symmetric block size and screen size\"\"\"\n",
    "        assert self.snake_length == 0, f'Snake should be 0 length for spawning head, but is {self.snake_length}.'\n",
    "        assert self._screen_size % self._block_size == 0, f'Screen size should be integer multiple of block size.'\n",
    "        if direction == \"Unknown\":\n",
    "            direction = np.random.choice([\"up\",\"down\",\"left\",\"right\"])\n",
    "        rect = deepcopy(self._rect)\n",
    "        grid_size = screen_size // self._block_size\n",
    "        rect.left, rect.top = np.random.randint(low=0,high=grid_size,size=2) * self._block_size\n",
    "        head_block = Block(rect=rect, direction=direction)\n",
    "        self._snake_blocks.append(head_block)\n",
    "        self.update_snake_length()\n",
    "\n",
    "    def add_body_block(self):\n",
    "        \"\"\" Assuming symmetric block size and screen size\"\"\"\n",
    "        rect = deepcopy(self._rect)\n",
    "        _map = {\"up\"  : (0, self._block_size), \"down\" : (0, -self._block_size),\n",
    "                \"left\": (self._block_size, 0), \"right\": (-self._block_size, 0)}\n",
    "        rect.left, rect.bottom, direction = self.history.get(0)\n",
    "        rect.left   += _map[direction][0]\n",
    "        rect.bottom += _map[direction][1]\n",
    "        body_block = Block(rect=rect, direction=direction)\n",
    "        self._snake_blocks.append(body_block)\n",
    "        self.update_snake_length()\n",
    "\n",
    "    def move(self, velocity: int | float) -> None:\n",
    "        \"\"\" Assuming v_x == v_y \"\"\"\n",
    "        assert self.snake_length > 0, f'The snake should be at least 1 long.'\n",
    "        # Moving head\n",
    "        _map = {\"up\"  : (0, -velocity), \"down\" : (0, velocity),\n",
    "                \"left\": (-velocity, 0), \"right\": (velocity, 0)}\n",
    "        _dir = self._snake_blocks[0].direction\n",
    "        self._snake_blocks[0].rect = self._snake_blocks[0].rect.move(_map[_dir][0],_map[_dir][1])\n",
    "\n",
    "        # Moving body\n",
    "        for block in range(1, self.snake_length):\n",
    "            _x, _y, _dir = self.history.get(-(self.snake_length-block))\n",
    "            self._snake_blocks[block].rect.left   = _x\n",
    "            self._snake_blocks[block].rect.bottom = _y\n",
    "            self._snake_blocks[block].direction   = _dir\n",
    "\n",
    "    def set_direction(self, direction: str) -> None:\n",
    "        \"\"\" Setting the direction of the snake\n",
    "        by changing the direction of the head block.\"\"\"\n",
    "        self._snake_blocks[0].direction = direction\n",
    "\n",
    "    def get_direction(self) -> str:\n",
    "        return self._snake_blocks[0].direction\n",
    "\n",
    "    def initialize(self, direction: str = \"Unknown\") -> None:\n",
    "        \"\"\" initializes snake by spawning in snake head at\n",
    "            random place, optionally with random direction.\"\"\"\n",
    "        if direction == \"Unknown\":\n",
    "            direction = np.random.choice([\"up\",\"down\",\"left\",\"right\"])\n",
    "        self._add_head_block(direction=direction)\n",
    "        self.save_history()\n",
    "\n",
    "    def save_history(self):\n",
    "        \"\"\" Saving history of snake head path. \"\"\"\n",
    "        state = (self._snake_blocks[0].rect.left,\n",
    "                 self._snake_blocks[0].rect.bottom,\n",
    "                 self._snake_blocks[0].direction)\n",
    "        self.history.add(state=state)\n",
    "\n",
    "    def view_state(self):\n",
    "        state = np.zeros(shape=(self._screen_size//self._block_size,\n",
    "                                self._screen_size//self._block_size),dtype=int)\n",
    "        head_x = self._snake_blocks[0].rect.left // self._block_size\n",
    "        head_y = self._snake_blocks[0].rect.top // self._block_size\n",
    "        state[head_y][head_x] = 2\n",
    "        for block in range(1, self.snake_length):\n",
    "            body_x = self._snake_blocks[block].rect.left // self._block_size\n",
    "            body_y = self._snake_blocks[block].rect.top // self._block_size\n",
    "            state[body_y][body_x] = 1\n",
    "        print(state)\n",
    "\n",
    "\n",
    "\n"
   ],
   "metadata": {
    "collapsed": false,
    "pycharm": {
     "name": "#%%\n"
    }
   }
  },
  {
   "cell_type": "code",
   "execution_count": 355,
   "outputs": [],
   "source": [
    "block_size = 2\n",
    "screen_size = 10\n",
    "test_rect = pygame.surface.Surface(size=(block_size,block_size)).get_rect()\n",
    "test_snake = Snake(rect=test_rect, screen_size=screen_size, seed=1)\n",
    "test_snake.initialize(direction=\"left\")"
   ],
   "metadata": {
    "collapsed": false,
    "pycharm": {
     "name": "#%%\n"
    }
   }
  },
  {
   "cell_type": "code",
   "execution_count": 356,
   "outputs": [
    {
     "name": "stdout",
     "output_type": "stream",
     "text": [
      "[[0 0 0 0 0]\n",
      " [0 0 0 0 0]\n",
      " [0 0 0 0 0]\n",
      " [0 0 0 0 0]\n",
      " [0 0 0 2 0]]\n"
     ]
    }
   ],
   "source": [
    "grid_size = screen_size // block_size\n",
    "test_snake.view_state()"
   ],
   "metadata": {
    "collapsed": false,
    "pycharm": {
     "name": "#%%\n"
    }
   }
  },
  {
   "cell_type": "code",
   "execution_count": 357,
   "outputs": [
    {
     "name": "stdout",
     "output_type": "stream",
     "text": [
      "deque([(6, 10, 'left')], maxlen=2)\n",
      "[[0 0 0 0 0]\n",
      " [0 0 0 0 0]\n",
      " [0 0 0 0 0]\n",
      " [0 0 0 0 0]\n",
      " [0 0 0 2 1]]\n"
     ]
    }
   ],
   "source": [
    "test_snake.add_body_block()\n",
    "#test_snake.save_history()\n",
    "print(test_snake.history.history)\n",
    "test_snake.view_state()"
   ],
   "metadata": {
    "collapsed": false,
    "pycharm": {
     "name": "#%%\n"
    }
   }
  },
  {
   "cell_type": "code",
   "execution_count": 358,
   "outputs": [
    {
     "name": "stdout",
     "output_type": "stream",
     "text": [
      "deque([(6, 10, 'left')], maxlen=2)\n",
      "deque([(6, 10, 'left'), (4, 10, 'left')], maxlen=2)\n",
      "[[0 0 0 0 0]\n",
      " [0 0 0 0 0]\n",
      " [0 0 0 0 0]\n",
      " [0 0 0 0 0]\n",
      " [0 0 2 1 0]]\n"
     ]
    }
   ],
   "source": [
    "print(test_snake.history.history)\n",
    "test_snake.move(block_size)\n",
    "test_snake.save_history()\n",
    "print(test_snake.history.history)\n",
    "test_snake.view_state()\n"
   ],
   "metadata": {
    "collapsed": false,
    "pycharm": {
     "name": "#%%\n"
    }
   }
  },
  {
   "cell_type": "code",
   "execution_count": 359,
   "outputs": [
    {
     "name": "stdout",
     "output_type": "stream",
     "text": [
      "deque([(6, 10, 'left'), (4, 10, 'left')], maxlen=2)\n",
      "deque([(4, 10, 'left'), (4, 8, 'up')], maxlen=2)\n",
      "[[0 0 0 0 0]\n",
      " [0 0 0 0 0]\n",
      " [0 0 0 0 0]\n",
      " [0 0 2 0 0]\n",
      " [0 0 1 0 0]]\n"
     ]
    }
   ],
   "source": [
    "test_snake.set_direction(\"up\")\n",
    "print(test_snake.history.history)\n",
    "test_snake.move(block_size)\n",
    "test_snake.save_history()\n",
    "print(test_snake.history.history)\n",
    "test_snake.view_state()"
   ],
   "metadata": {
    "collapsed": false,
    "pycharm": {
     "name": "#%%\n"
    }
   }
  },
  {
   "cell_type": "code",
   "execution_count": 360,
   "outputs": [
    {
     "name": "stdout",
     "output_type": "stream",
     "text": [
      "deque([(4, 10, 'left'), (4, 8, 'up')], maxlen=2)\n",
      "deque([(4, 8, 'up'), (4, 6, 'up')], maxlen=2)\n",
      "[[0 0 0 0 0]\n",
      " [0 0 0 0 0]\n",
      " [0 0 2 0 0]\n",
      " [0 0 1 0 0]\n",
      " [0 0 0 0 0]]\n"
     ]
    }
   ],
   "source": [
    "test_snake.set_direction(\"up\")\n",
    "print(test_snake.history.history)\n",
    "test_snake.move(block_size)\n",
    "test_snake.save_history()\n",
    "print(test_snake.history.history)\n",
    "test_snake.view_state()"
   ],
   "metadata": {
    "collapsed": false,
    "pycharm": {
     "name": "#%%\n"
    }
   }
  },
  {
   "cell_type": "code",
   "execution_count": 361,
   "outputs": [
    {
     "name": "stdout",
     "output_type": "stream",
     "text": [
      "deque([(4, 8, 'up'), (4, 6, 'up')], maxlen=3)\n",
      "[[0 0 0 0 0]\n",
      " [0 0 0 0 0]\n",
      " [0 0 2 0 0]\n",
      " [0 0 1 0 0]\n",
      " [0 0 1 0 0]]\n"
     ]
    }
   ],
   "source": [
    "test_snake.add_body_block()\n",
    "print(test_snake.history.history)\n",
    "test_snake.view_state()"
   ],
   "metadata": {
    "collapsed": false,
    "pycharm": {
     "name": "#%%\n"
    }
   }
  },
  {
   "cell_type": "code",
   "execution_count": 362,
   "outputs": [
    {
     "name": "stdout",
     "output_type": "stream",
     "text": [
      "deque([(4, 8, 'up'), (4, 6, 'up')], maxlen=3)\n",
      "deque([(4, 8, 'up'), (4, 6, 'up'), (4, 4, 'up')], maxlen=3)\n",
      "[[0 0 0 0 0]\n",
      " [0 0 2 0 0]\n",
      " [0 0 1 0 0]\n",
      " [0 0 1 0 0]\n",
      " [0 0 0 0 0]]\n"
     ]
    }
   ],
   "source": [
    "print(test_snake.history.history)\n",
    "test_snake.move(block_size)\n",
    "test_snake.save_history()\n",
    "print(test_snake.history.history)\n",
    "test_snake.view_state()"
   ],
   "metadata": {
    "collapsed": false,
    "pycharm": {
     "name": "#%%\n"
    }
   }
  },
  {
   "cell_type": "code",
   "execution_count": 363,
   "outputs": [
    {
     "name": "stdout",
     "output_type": "stream",
     "text": [
      "deque([(4, 8, 'up'), (4, 6, 'up'), (4, 4, 'up')], maxlen=3)\n",
      "deque([(4, 6, 'up'), (4, 4, 'up'), (6, 4, 'right')], maxlen=3)\n",
      "[[0 0 0 0 0]\n",
      " [0 0 1 2 0]\n",
      " [0 0 1 0 0]\n",
      " [0 0 0 0 0]\n",
      " [0 0 0 0 0]]\n"
     ]
    }
   ],
   "source": [
    "test_snake.set_direction(\"right\")\n",
    "print(test_snake.history.history)\n",
    "test_snake.move(block_size)\n",
    "test_snake.save_history()\n",
    "print(test_snake.history.history)\n",
    "test_snake.view_state()"
   ],
   "metadata": {
    "collapsed": false,
    "pycharm": {
     "name": "#%%\n"
    }
   }
  },
  {
   "cell_type": "code",
   "execution_count": 364,
   "outputs": [
    {
     "name": "stdout",
     "output_type": "stream",
     "text": [
      "[[0 0 0 0 0]\n",
      " [0 0 1 2 0]\n",
      " [0 0 1 0 0]\n",
      " [0 0 1 0 0]\n",
      " [0 0 0 0 0]]\n"
     ]
    }
   ],
   "source": [
    "test_snake.add_body_block()\n",
    "test_snake.view_state()"
   ],
   "metadata": {
    "collapsed": false,
    "pycharm": {
     "name": "#%%\n"
    }
   }
  },
  {
   "cell_type": "code",
   "execution_count": 365,
   "outputs": [
    {
     "name": "stdout",
     "output_type": "stream",
     "text": [
      "deque([(4, 6, 'up'), (4, 4, 'up'), (6, 4, 'right')], maxlen=4)\n",
      "deque([(4, 6, 'up'), (4, 4, 'up'), (6, 4, 'right'), (8, 4, 'right')], maxlen=4)\n",
      "[[0 0 0 0 0]\n",
      " [0 0 1 1 2]\n",
      " [0 0 1 0 0]\n",
      " [0 0 0 0 0]\n",
      " [0 0 0 0 0]]\n"
     ]
    }
   ],
   "source": [
    "test_snake.set_direction(\"right\")\n",
    "print(test_snake.history.history)\n",
    "test_snake.move(block_size)\n",
    "test_snake.save_history()\n",
    "print(test_snake.history.history)\n",
    "test_snake.view_state()"
   ],
   "metadata": {
    "collapsed": false,
    "pycharm": {
     "name": "#%%\n"
    }
   }
  },
  {
   "cell_type": "code",
   "execution_count": 366,
   "outputs": [
    {
     "name": "stdout",
     "output_type": "stream",
     "text": [
      "deque([(4, 6, 'up'), (4, 4, 'up'), (6, 4, 'right'), (8, 4, 'right')], maxlen=4)\n",
      "deque([(4, 4, 'up'), (6, 4, 'right'), (8, 4, 'right'), (8, 6, 'down')], maxlen=4)\n",
      "[[0 0 0 0 0]\n",
      " [0 0 1 1 1]\n",
      " [0 0 0 0 2]\n",
      " [0 0 0 0 0]\n",
      " [0 0 0 0 0]]\n"
     ]
    }
   ],
   "source": [
    "test_snake.set_direction(\"down\")\n",
    "print(test_snake.history.history)\n",
    "test_snake.move(block_size)\n",
    "test_snake.save_history()\n",
    "print(test_snake.history.history)\n",
    "test_snake.view_state()"
   ],
   "metadata": {
    "collapsed": false,
    "pycharm": {
     "name": "#%%\n"
    }
   }
  },
  {
   "cell_type": "code",
   "execution_count": 340,
   "outputs": [],
   "source": [],
   "metadata": {
    "collapsed": false,
    "pycharm": {
     "name": "#%%\n"
    }
   }
  },
  {
   "cell_type": "code",
   "execution_count": null,
   "outputs": [],
   "source": [],
   "metadata": {
    "collapsed": false,
    "pycharm": {
     "name": "#%%\n"
    }
   }
  }
 ],
 "metadata": {
  "kernelspec": {
   "display_name": "Python 3",
   "language": "python",
   "name": "python3"
  },
  "language_info": {
   "codemirror_mode": {
    "name": "ipython",
    "version": 2
   },
   "file_extension": ".py",
   "mimetype": "text/x-python",
   "name": "python",
   "nbconvert_exporter": "python",
   "pygments_lexer": "ipython2",
   "version": "2.7.6"
  }
 },
 "nbformat": 4,
 "nbformat_minor": 0
}