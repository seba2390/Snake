{
 "cells": [
  {
   "cell_type": "code",
   "execution_count": 1,
   "outputs": [
    {
     "name": "stdout",
     "output_type": "stream",
     "text": [
      "pygame 2.1.2 (SDL 2.0.18, Python 3.10.6)\n",
      "Hello from the pygame community. https://www.pygame.org/contribute.html\n"
     ]
    }
   ],
   "source": [
    "\"\"\" https://storage.googleapis.com/deepmind-media/dqn/DQNNaturePaper.pdf\n",
    "https://user.ceng.metu.edu.tr/~emre/resources/courses/AdvancedDL_Spring2017/DQN_Muhammed.pdf\n",
    "https://www.youtube.com/watch?v=NP8pXZdU-5U&t=1s\n",
    "\"\"\"\n",
    "import matplotlib.pyplot as plt\n",
    "import torch\n",
    "import numpy as np\n",
    "from copy import deepcopy\n",
    "from tqdm import tqdm\n",
    "from SnakeEnvironment import *\n",
    "from Agent import *\n",
    "import collections\n",
    "import random\n",
    "from itertools import count\n",
    "#from Util import HyperParameters, TrainingData, save_session\n",
    "import torchvision.transforms.functional as fn\n"
   ],
   "metadata": {
    "collapsed": false,
    "pycharm": {
     "name": "#%%\n"
    }
   }
  },
  {
   "cell_type": "code",
   "execution_count": 2,
   "outputs": [
    {
     "data": {
      "text/plain": "<matplotlib.image.AxesImage at 0x1534e2b90>"
     },
     "execution_count": 2,
     "metadata": {},
     "output_type": "execute_result"
    },
    {
     "data": {
      "text/plain": "<Figure size 640x480 with 1 Axes>",
      "image/png": "[encoded data removed]"
     },
     "metadata": {},
     "output_type": "display_data"
    }
   ],
   "source": [
    "game_env = SnakeEnvironment(seed=5, # Try both constant seed and varying seed for each episode\n",
    "                            display_gameplay=False)\n",
    "game_env.initialize_environment()\n",
    "screen = game_env.get_state()\n",
    "plt.imshow(screen.resize_(84,84),cmap=\"gray\",vmin=0,vmax=1)\n"
   ],
   "metadata": {
    "collapsed": false,
    "pycharm": {
     "name": "#%%\n"
    }
   }
  },
  {
   "cell_type": "code",
   "execution_count": 7,
   "outputs": [
    {
     "data": {
      "text/plain": "tensor([[5., 5., 5., 5., 5., 5., 5.],\n        [5., 0., 0., 0., 0., 0., 5.],\n        [5., 2., 0., 0., 0., 0., 5.],\n        [5., 0., 0., 0., 0., 0., 5.],\n        [5., 0., 0., 0., 0., 0., 5.],\n        [5., 3., 0., 0., 0., 0., 5.],\n        [5., 5., 5., 5., 5., 5., 5.]])"
     },
     "execution_count": 7,
     "metadata": {},
     "output_type": "execute_result"
    }
   ],
   "source": [
    "def get_screen(_env: SnakeEnvironment):\n",
    "\n",
    "\n",
    "game_env.get_state()"
   ],
   "metadata": {
    "collapsed": false,
    "pycharm": {
     "name": "#%%\n"
    }
   }
  },
  {
   "cell_type": "code",
   "execution_count": 8,
   "outputs": [
    {
     "data": {
      "text/plain": "<matplotlib.image.AxesImage at 0x15db027a0>"
     },
     "execution_count": 8,
     "metadata": {},
     "output_type": "execute_result"
    },
    {
     "data": {
      "text/plain": "<Figure size 640x480 with 1 Axes>",
      "image/png": "[encoded data removed]"
     },
     "metadata": {},
     "output_type": "display_data"
    }
   ],
   "source": [
    "plt.imshow(game_env.get_state(),cmap=\"gray\")"
   ],
   "metadata": {
    "collapsed": false,
    "pycharm": {
     "name": "#%%\n"
    }
   }
  },
  {
   "cell_type": "code",
   "execution_count": 9,
   "outputs": [
    {
     "data": {
      "text/plain": "tensor([[1., 1., 1., 1., 1.],\n        [1., 0., 0., 0., 1.],\n        [1., 0., 0., 0., 1.],\n        [1., 0., 0., 0., 1.],\n        [1., 1., 1., 1., 1.]])"
     },
     "execution_count": 9,
     "metadata": {},
     "output_type": "execute_result"
    }
   ],
   "source": [
    "a=3\n",
    "grid = torch.zeros(size=(a+2,a+2))\n",
    "grid[0] = grid[a+1] = grid[:,0] = grid[:,a+1] = 1\n",
    "grid"
   ],
   "metadata": {
    "collapsed": false,
    "pycharm": {
     "name": "#%%\n"
    }
   }
  },
  {
   "cell_type": "code",
   "execution_count": 7,
   "outputs": [
    {
     "name": "stdout",
     "output_type": "stream",
     "text": [
      "Epsilon projection for final eps = 0.0:\n"
     ]
    },
    {
     "data": {
      "text/plain": "<Figure size 450x250 with 1 Axes>",
      "image/png": "[encoded data removed]"
     },
     "metadata": {},
     "output_type": "display_data"
    }
   ],
   "source": [
    "BATCH_SIZE = 128\n",
    "GAMMA = 0.99\n",
    "EPS_START = 1.0\n",
    "EPS_END = 0.0\n",
    "EPS_DECAY = 0.02\n",
    "TARGET_UPDATE = 10\n",
    "MY_SEED = 0\n",
    "LR = 0.0001\n",
    "MEMORY_SIZE = 1000000\n",
    "\n",
    "NUM_EPISODES = 900\n",
    "\n",
    "state_size = 18\n",
    "nr_actions = 4\n",
    "\n",
    "agent_007 = Agent(gamma=GAMMA,exploration_rate=EPS_START,lr=LR,\n",
    "                  input_size=state_size, batch_size=BATCH_SIZE,\n",
    "                  nr_actions=nr_actions, max_mem_size=MEMORY_SIZE,\n",
    "                  nr_episodes=NUM_EPISODES, exploration_rate_min=EPS_END,\n",
    "                  exploration_decay_rate=EPS_DECAY,seed=MY_SEED)\n",
    "\n",
    "my_params = HyperParameters(batch_size=BATCH_SIZE,gamma=GAMMA,eps_0=EPS_START,\n",
    "                            eps_min=EPS_END,eps_decay_rate=EPS_DECAY,\n",
    "                            target_update_freq=TARGET_UPDATE,learning_rate=LR,\n",
    "                            memory_size=MEMORY_SIZE,n_episodes=NUM_EPISODES)\n",
    "\n",
    "print(f\"Epsilon projection for final eps = {EPS_END}:\")\n",
    "fig, ax = plt.subplots(1,1,figsize=(4.5,2.5))\n",
    "eps = np.linspace(0.00001,NUM_EPISODES,1000)\n",
    "\n",
    "#### Different epsilon decay strategies ####\n",
    "#ys = 1.0 - EPS_DECAY * eps\n",
    "#ys = agent_007.stretched_exponential_view(eps,NUM_EPISODES,EPS_START,EPS_END)\n",
    "ys = agent_007.linear_view(eps,EPS_START,EPS_DECAY)\n",
    "#ys = agent_007.exponential(eps,EPS_START,EPS_END,EPS_DECAY)\n",
    "#ys = agent_007.oscillator(eps,EPS_START,EPS_END,NUM_EPISODES,A = 3.5,B=20)\n",
    "#ys = agent_007.inverse_power(eps,EPS_DECAY,EPS_START,EPS_END)\n",
    "#ys = agent_007.exponential_ski_hill(eps,EPS_DECAY,EPS_START,EPS_END)\n",
    "eps, ys = eps[ys >= EPS_END], ys[ys >= EPS_END]\n",
    "ax.plot(eps, ys,'r-')\n",
    "ax.set_xlim(0,NUM_EPISODES)\n",
    "ax.set_ylim(-0.1,1.1)\n",
    "ax.hlines(EPS_END,0,NUM_EPISODES,lw=0.8,ls='--')\n",
    "plt.show()"
   ],
   "metadata": {
    "collapsed": false,
    "pycharm": {
     "name": "#%%\n"
    }
   }
  },
  {
   "cell_type": "code",
   "execution_count": 8,
   "outputs": [],
   "source": [
    "episode_durations = []\n",
    "episode_rewards = []\n",
    "episode_scores = []\n",
    "episode_exploration_rates = []\n",
    "episode_max_iteration_tokens = []\n",
    "episode_memory_size = []"
   ],
   "metadata": {
    "collapsed": false,
    "pycharm": {
     "name": "#%%\n"
    }
   }
  },
  {
   "cell_type": "code",
   "execution_count": 9,
   "outputs": [
    {
     "name": "stderr",
     "output_type": "stream",
     "text": [
      "  0%|          | 1/900 [00:00<00:08, 102.66it/s, Score=0, Duration=5, Eps=1]"
     ]
    },
    {
     "name": "stdout",
     "output_type": "stream",
     "text": [
      "head x: 0\n",
      "head y: 3\n",
      "head x: 1\n",
      "head y: 3\n",
      "head x: 2\n",
      "head y: 3\n",
      "head x: 2\n",
      "head y: 4\n",
      "head x: 1\n",
      "head y: 4\n",
      "head x: 0\n",
      "head y: 4\n",
      "head x: -1\n",
      "head y: 4\n",
      "head x: 3\n",
      "head y: 4\n",
      "head x: 4\n",
      "head y: 4\n",
      "head x: 5\n",
      "head y: 4\n"
     ]
    },
    {
     "name": "stderr",
     "output_type": "stream",
     "text": [
      "\n"
     ]
    },
    {
     "ename": "IndexError",
     "evalue": "index 5 is out of bounds for dimension 0 with size 5",
     "output_type": "error",
     "traceback": [
      "\u001B[0;31m---------------------------------------------------------------------------\u001B[0m",
      "\u001B[0;31mIndexError\u001B[0m                                Traceback (most recent call last)",
      "Cell \u001B[0;32mIn [9], line 23\u001B[0m\n\u001B[1;32m     20\u001B[0m action \u001B[38;5;241m=\u001B[39m agent_007\u001B[38;5;241m.\u001B[39mchoose_action(current_state)\n\u001B[1;32m     22\u001B[0m \u001B[38;5;66;03m# Perform action in game environment and observe reward and new state + termination flag.\u001B[39;00m\n\u001B[0;32m---> 23\u001B[0m reward, game_over, new_observation \u001B[38;5;241m=\u001B[39m \u001B[43mgame_env\u001B[49m\u001B[38;5;241;43m.\u001B[39;49m\u001B[43mstep\u001B[49m\u001B[43m(\u001B[49m\u001B[43maction\u001B[49m\u001B[43m)\u001B[49m\n\u001B[1;32m     24\u001B[0m current_game_reward \u001B[38;5;241m+\u001B[39m\u001B[38;5;241m=\u001B[39m reward\n\u001B[1;32m     25\u001B[0m reward \u001B[38;5;241m=\u001B[39m torch\u001B[38;5;241m.\u001B[39mtensor([reward])\n",
      "File \u001B[0;32m~/Library/CloudStorage/OneDrive-AarhusUniversitet/Div. Github projekter/Snake/DQN4 - new snake impl-fixed_state_bug-dist_image_state_rep/SnakeEnvironment.py:288\u001B[0m, in \u001B[0;36mSnakeEnvironment.step\u001B[0;34m(self, action)\u001B[0m\n\u001B[1;32m    286\u001B[0m     \u001B[38;5;28mself\u001B[39m\u001B[38;5;241m.\u001B[39mrunning \u001B[38;5;241m=\u001B[39m \u001B[38;5;28;01mFalse\u001B[39;00m\n\u001B[1;32m    287\u001B[0m \u001B[38;5;66;03m# Getting state resulting from given action\u001B[39;00m\n\u001B[0;32m--> 288\u001B[0m new_state \u001B[38;5;241m=\u001B[39m \u001B[38;5;28;43mself\u001B[39;49m\u001B[38;5;241;43m.\u001B[39;49m\u001B[43mget_state\u001B[49m\u001B[43m(\u001B[49m\u001B[43m)\u001B[49m\n\u001B[1;32m    289\u001B[0m \u001B[38;5;66;03m# Checking that snake hasn't just started looping around\u001B[39;00m\n\u001B[1;32m    290\u001B[0m \u001B[38;5;28;01mif\u001B[39;00m \u001B[38;5;28mself\u001B[39m\u001B[38;5;241m.\u001B[39mbreak_out_counter \u001B[38;5;241m==\u001B[39m \u001B[38;5;28mself\u001B[39m\u001B[38;5;241m.\u001B[39mmax_iterations:\n",
      "File \u001B[0;32m~/Library/CloudStorage/OneDrive-AarhusUniversitet/Div. Github projekter/Snake/DQN4 - new snake impl-fixed_state_bug-dist_image_state_rep/SnakeEnvironment.py:195\u001B[0m, in \u001B[0;36mSnakeEnvironment.get_state\u001B[0;34m(self)\u001B[0m\n\u001B[1;32m    193\u001B[0m \u001B[38;5;28mprint\u001B[39m(\u001B[38;5;124m\"\u001B[39m\u001B[38;5;124mhead x:\u001B[39m\u001B[38;5;124m\"\u001B[39m, head_x)\n\u001B[1;32m    194\u001B[0m \u001B[38;5;28mprint\u001B[39m(\u001B[38;5;124m\"\u001B[39m\u001B[38;5;124mhead y:\u001B[39m\u001B[38;5;124m\"\u001B[39m, head_y)\n\u001B[0;32m--> 195\u001B[0m \u001B[43mgrid\u001B[49m\u001B[43m[\u001B[49m\u001B[43mhead_y\u001B[49m\u001B[43m]\u001B[49m\u001B[43m[\u001B[49m\u001B[43mhead_x\u001B[49m\u001B[43m]\u001B[49m \u001B[38;5;241m=\u001B[39m \u001B[38;5;241m2\u001B[39m\n\u001B[1;32m    197\u001B[0m \u001B[38;5;66;03m# Placing body\u001B[39;00m\n\u001B[1;32m    198\u001B[0m \u001B[38;5;28;01mfor\u001B[39;00m body_idx \u001B[38;5;129;01min\u001B[39;00m \u001B[38;5;28mrange\u001B[39m(\u001B[38;5;241m1\u001B[39m, \u001B[38;5;28mself\u001B[39m\u001B[38;5;241m.\u001B[39msnake\u001B[38;5;241m.\u001B[39msnake_length):\n",
      "\u001B[0;31mIndexError\u001B[0m: index 5 is out of bounds for dimension 0 with size 5"
     ]
    }
   ],
   "source": [
    "t_count = 0\n",
    "with tqdm(range(NUM_EPISODES)) as progress_bar:\n",
    "    for i_episode in progress_bar:\n",
    "        # Initialize the environment and state\n",
    "        game_env = SnakeEnvironment(seed=MY_SEED + i_episode,  # Try both constant seed and varying seed for each episode\n",
    "                                    display_gameplay=False)\n",
    "        game_env.initialize_environment()\n",
    "\n",
    "        current_game_reward = 0\n",
    "        current_game_duration = 0\n",
    "\n",
    "        current_exploration_rate = 0\n",
    "        current_steps_counter = 0\n",
    "        game_over = False\n",
    "        current_state = game_env.get_state()\n",
    "\n",
    "        #print(current_state)\n",
    "        for t in count():\n",
    "            # Select and perform an action according to greedy epsilon strategy\n",
    "            action = agent_007.choose_action(current_state)\n",
    "\n",
    "            # Perform action in game environment and observe reward and new state + termination flag.\n",
    "            reward, game_over, new_observation = game_env.step(action)\n",
    "            current_game_reward += reward\n",
    "            reward = torch.tensor([reward])\n",
    "\n",
    "            # Observe new state\n",
    "            last_state = current_state\n",
    "            current_state = new_observation\n",
    "\n",
    "            # Store the transition in memory\n",
    "            # print(type(last_state), type(action),type(reward),type(current_state),type(game_over))\n",
    "            agent_007.store_transition(state=last_state,action=action,\n",
    "                                       reward=reward,new_state=current_state,\n",
    "                                       done_flag=game_over)\n",
    "\n",
    "\n",
    "            # Perform one step of the optimization (on the policy network)\n",
    "            agent_007.learn(i_episode)\n",
    "            if game_over:\n",
    "                break\n",
    "            current_game_duration += 1\n",
    "\n",
    "            # Update the target network, copying all weights and biases in DQN from policy to target network\n",
    "            if t % TARGET_UPDATE == 0:\n",
    "                agent_007.align_networks()\n",
    "            t_count+=1\n",
    "\n",
    "        episode_rewards.append(current_game_reward)\n",
    "        episode_scores.append(game_env.current_score)\n",
    "        episode_durations.append(current_game_duration)\n",
    "        episode_exploration_rates.append(agent_007.exploration_rate)\n",
    "        episode_max_iteration_tokens.append(game_env.max_iteration_token)\n",
    "        episode_memory_size.append(t_count)\n",
    "\n",
    "        progress_bar.set_postfix({\"Score\": game_env.current_score,\n",
    "                                  \"Duration\": current_game_duration,\n",
    "                                  \"Eps\":agent_007.exploration_rate})"
   ],
   "metadata": {
    "collapsed": false,
    "pycharm": {
     "name": "#%%\n"
    }
   }
  },
  {
   "cell_type": "code",
   "execution_count": null,
   "outputs": [],
   "source": [
    "fig, ax = plt.subplots(1,2,figsize=(12,3))\n",
    "print(\"Total games exited due to max iterations reached: \", sum(episode_max_iteration_tokens))\n",
    "ax[0].plot([i for i in range(len(episode_max_iteration_tokens))], episode_max_iteration_tokens,lw=0.5)\n",
    "ax[0].set_title(\"Max Iterations Markers\")\n",
    "ax[0].set_xlabel(\"Episode\")\n",
    "\n",
    "ax[1].plot([i for i in range(len(episode_memory_size))], episode_memory_size,lw=0.5)\n",
    "ax[1].set_title(\"Memory size\")\n",
    "ax[1].set_xlabel(\"Episode\")\n",
    "ax[1].hlines(MEMORY_SIZE,0,NUM_EPISODES,ls='--')\n",
    "plt.show()"
   ],
   "metadata": {
    "collapsed": false,
    "pycharm": {
     "name": "#%%\n"
    }
   }
  },
  {
   "cell_type": "code",
   "execution_count": null,
   "outputs": [],
   "source": [
    "fig, ax = plt.subplots(2,2,figsize=(20,10))\n",
    "ax[0][0].plot([i for i in range(len(episode_scores))], episode_scores,lw=0.5)\n",
    "ax[0][0].set_title(\"Game score\")\n",
    "ax[0][0].set_xlabel(\"Episode\")\n",
    "ax[0][0].set_ylabel(\"Score\")\n",
    "\n",
    "ax[0][1].plot([i for i in range(len(episode_rewards))], episode_rewards,lw=0.5)\n",
    "ax[0][1].set_title(\"Game reward\")\n",
    "ax[0][1].set_xlabel(\"Episode\")\n",
    "ax[0][1].set_ylabel(\"Score\")\n",
    "\n",
    "\n",
    "ax[1][0].plot([i for i in range(len(episode_durations))], episode_durations,lw=0.5)\n",
    "ax[1][0].set_title(\"Steps survived\")\n",
    "ax[1][0].set_xlabel(\"Episode\")\n",
    "ax[1][0].set_ylabel(\"Nr. steps\")\n",
    "\n",
    "ax[1][1].plot([i for i in range(len(episode_exploration_rates))], episode_exploration_rates,lw=0.5)\n",
    "ax[1][1].set_title(\"Epsilon\")\n",
    "ax[1][1].set_xlabel(\"Episode\")\n",
    "ax[1][1].set_ylabel(\"Epsilon\")\n",
    "\n",
    "plt.show()"
   ],
   "metadata": {
    "collapsed": false,
    "pycharm": {
     "name": "#%%\n"
    }
   }
  },
  {
   "cell_type": "code",
   "execution_count": null,
   "outputs": [],
   "source": [
    "#### Saving current run ####\n",
    "\n",
    "from os import listdir\n",
    "from os.path import isfile, join\n",
    "\n",
    "data = TrainingData(scores=episode_scores,steps=episode_durations,\n",
    "                    eps=episode_exploration_rates, rewards=episode_rewards)\n",
    "file_numbers = [int(f[4:-4]) for f in listdir(\"Data/\") if isfile(join(\"Data/\", f))]\n",
    "already_exists = True\n",
    "nr = None\n",
    "while already_exists:\n",
    "    nr = np.random.randint(0,100000,size=1)[0]\n",
    "    if nr not in file_numbers:\n",
    "        already_exists = False\n",
    "save_session(filename=f'Data/run_{nr}.txt',\n",
    "             note=\"Using Linear eps. decay. + distance to apple reward.\", params=my_params,agent=agent_007, data=data, env=game_env)"
   ],
   "metadata": {
    "collapsed": false,
    "pycharm": {
     "name": "#%%\n"
    }
   }
  },
  {
   "cell_type": "code",
   "execution_count": null,
   "outputs": [],
   "source": [
    "avg_period = NUM_EPISODES//100\n",
    "avg_episode_scores, avg_episode_durations, avg_episode_exploration_rates = [], [], []\n",
    "for period in range(0, len(episode_rewards) // avg_period):\n",
    "    avg_episode_scores.append(np.mean(episode_scores[avg_period * period : avg_period * (period + 1)]))\n",
    "    avg_episode_durations.append(np.mean(episode_durations[avg_period * period : avg_period * (period + 1)]))\n",
    "    avg_episode_exploration_rates.append(np.mean(episode_exploration_rates[avg_period * period : avg_period * (period + 1)]))"
   ],
   "metadata": {
    "collapsed": false,
    "pycharm": {
     "name": "#%%\n"
    }
   }
  },
  {
   "cell_type": "code",
   "execution_count": null,
   "outputs": [],
   "source": [
    "fig, ax = plt.subplots(1,3,figsize=(20,4))\n",
    "ax[0].plot([ i for i in range(len(avg_episode_scores))], avg_episode_scores,lw=0.5)\n",
    "ax[1].plot([ i for i in range(len(avg_episode_durations))], avg_episode_durations,lw=0.5)\n",
    "ax[2].plot([ i for i in range(len(avg_episode_exploration_rates))], avg_episode_exploration_rates,lw=0.5)\n",
    "plt.show()"
   ],
   "metadata": {
    "collapsed": false,
    "pycharm": {
     "name": "#%%\n"
    }
   }
  },
  {
   "cell_type": "code",
   "execution_count": null,
   "outputs": [],
   "source": [
    "Play_game = False\n",
    "if Play_game:\n",
    "    game_env = SnakeEnvironment(seed=1109,  # Try both constant seed and varying seed for each episode\n",
    "                                neural_net=agent_007.policy_network,\n",
    "                                display_gameplay=True,\n",
    "                                graphics_speed=6)\n",
    "    game_env.run()\n",
    "\n"
   ],
   "metadata": {
    "collapsed": false,
    "pycharm": {
     "name": "#%%\n"
    }
   }
  },
  {
   "cell_type": "code",
   "execution_count": null,
   "outputs": [],
   "source": [
    "for t in tqdm(range(0,10000)):\n",
    "    game_env = SnakeEnvironment(seed=t,  # Try both constant seed and varying seed for each episode\n",
    "                                neural_net=agent_007.policy_network,\n",
    "                                display_gameplay=False,\n",
    "                                graphics_speed=100)\n",
    "    game_env.run()\n",
    "    if game_env.current_score > 90:\n",
    "        print(\"seed: \", t, \"score: \", game_env.current_score)"
   ],
   "metadata": {
    "collapsed": false,
    "pycharm": {
     "name": "#%%\n"
    }
   }
  },
  {
   "cell_type": "code",
   "execution_count": null,
   "outputs": [],
   "source": [],
   "metadata": {
    "collapsed": false,
    "pycharm": {
     "name": "#%%\n"
    }
   }
  }
 ],
 "metadata": {
  "kernelspec": {
   "display_name": "Python 3",
   "language": "python",
   "name": "python3"
  },
  "language_info": {
   "codemirror_mode": {
    "name": "ipython",
    "version": 2
   },
   "file_extension": ".py",
   "mimetype": "text/x-python",
   "name": "python",
   "nbconvert_exporter": "python",
   "pygments_lexer": "ipython2",
   "version": "2.7.6"
  }
 },
 "nbformat": 4,
 "nbformat_minor": 0
}